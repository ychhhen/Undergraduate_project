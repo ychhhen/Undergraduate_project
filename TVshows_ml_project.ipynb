{
 "cells": [
  {
   "cell_type": "markdown",
   "metadata": {
    "colab_type": "text",
    "id": "rn848Vch_1L0"
   },
   "source": [
    "# GPU configuration"
   ]
  },
  {
   "cell_type": "markdown",
   "metadata": {
    "colab_type": "text",
    "id": "56xcvoOSuPKn"
   },
   "source": [
    "如果将项目在 google colabotary上运行，可以配置GPU\n"
   ]
  },
  {
   "cell_type": "code",
   "execution_count": 0,
   "metadata": {
    "colab": {},
    "colab_type": "code",
    "id": "BgFTTieI8ogL"
   },
   "outputs": [],
   "source": [
    "!apt-get install -y -qq software-properties-common python-software-properties module-init-tools\n",
    "!add-apt-repository -y ppa:alessandro-strada/ppa 2>&1 > /dev/null\n",
    "!apt-get update -qq 2>&1 > /dev/null\n",
    "!apt-get -y install -qq google-drive-ocamlfuse fuse\n",
    "from google.colab import auth\n",
    "auth.authenticate_user()\n",
    "from oauth2client.client import GoogleCredentials\n",
    "creds = GoogleCredentials.get_application_default()\n",
    "import getpass\n",
    "!google-drive-ocamlfuse -headless -id={creds.client_id} -secret={creds.client_secret} < /dev/null 2>&1 | grep URL\n",
    "vcode = getpass.getpass()\n",
    "!echo {vcode} | google-drive-ocamlfuse -headless -id={creds.client_id} -secret={creds.client_secret}"
   ]
  },
  {
   "cell_type": "code",
   "execution_count": 0,
   "metadata": {
    "colab": {
     "base_uri": "https://localhost:8080/",
     "height": 34
    },
    "colab_type": "code",
    "id": "7Hgr4kbi-jZX",
    "outputId": "3d8db066-13d3-4c09-c3d7-600d560839bf"
   },
   "outputs": [
    {
     "name": "stdout",
     "output_type": "stream",
     "text": [
      "/bin/bash: google-drive-ocamlfuse: command not found\n"
     ]
    }
   ],
   "source": [
    "!mkdir -p drive\n",
    "!google-drive-ocamlfuse drive"
   ]
  },
  {
   "cell_type": "markdown",
   "metadata": {
    "colab_type": "text",
    "id": "eD_qRq3lyd_T"
   },
   "source": [
    "检查GPU是否分配成功"
   ]
  },
  {
   "cell_type": "code",
   "execution_count": 0,
   "metadata": {
    "colab": {
     "base_uri": "https://localhost:8080/",
     "height": 34
    },
    "colab_type": "code",
    "id": "B6hzijKX_OeA",
    "outputId": "af90ec24-afce-4829-d530-8269b925acea"
   },
   "outputs": [
    {
     "data": {
      "text/plain": [
       "'/device:GPU:0'"
      ]
     },
     "execution_count": 2,
     "metadata": {
      "tags": []
     },
     "output_type": "execute_result"
    }
   ],
   "source": [
    "import tensorflow as tf\n",
    "tf.test.gpu_device_name()"
   ]
  },
  {
   "cell_type": "markdown",
   "metadata": {
    "colab_type": "text",
    "id": "CuNFc3cc_-tf"
   },
   "source": [
    "# import necessary packages\n"
   ]
  },
  {
   "cell_type": "markdown",
   "metadata": {
    "colab_type": "text",
    "id": "ldOtgEyxIJfq"
   },
   "source": [
    "install some packages from pip"
   ]
  },
  {
   "cell_type": "code",
   "execution_count": 0,
   "metadata": {
    "colab": {
     "base_uri": "https://localhost:8080/",
     "height": 397
    },
    "colab_type": "code",
    "id": "SVvzLZhtFph0",
    "outputId": "3b6fac50-4b6c-456b-d714-edc371a5739c"
   },
   "outputs": [
    {
     "name": "stdout",
     "output_type": "stream",
     "text": [
      "Collecting imdbpy\n",
      "\u001b[?25l  Downloading https://files.pythonhosted.org/packages/0c/83/6754013ef7a9086ce57a9a2bac33066fe0fbe022d8b668cc483cf9324dd7/IMDbPY-6.6-py3-none-any.whl (284kB)\n",
      "\r",
      "\u001b[K     |█▏                              | 10kB 21.2MB/s eta 0:00:01\r",
      "\u001b[K     |██▎                             | 20kB 1.7MB/s eta 0:00:01\r",
      "\u001b[K     |███▌                            | 30kB 2.6MB/s eta 0:00:01\r",
      "\u001b[K     |████▋                           | 40kB 1.7MB/s eta 0:00:01\r",
      "\u001b[K     |█████▊                          | 51kB 2.1MB/s eta 0:00:01\r",
      "\u001b[K     |███████                         | 61kB 2.5MB/s eta 0:00:01\r",
      "\u001b[K     |████████                        | 71kB 2.9MB/s eta 0:00:01\r",
      "\u001b[K     |█████████▏                      | 81kB 3.3MB/s eta 0:00:01\r",
      "\u001b[K     |██████████▍                     | 92kB 3.7MB/s eta 0:00:01\r",
      "\u001b[K     |███████████▌                    | 102kB 2.8MB/s eta 0:00:01\r",
      "\u001b[K     |████████████▊                   | 112kB 2.8MB/s eta 0:00:01\r",
      "\u001b[K     |█████████████▉                  | 122kB 2.8MB/s eta 0:00:01\r",
      "\u001b[K     |███████████████                 | 133kB 2.8MB/s eta 0:00:01\r",
      "\u001b[K     |████████████████▏               | 143kB 2.8MB/s eta 0:00:01\r",
      "\u001b[K     |█████████████████▎              | 153kB 2.8MB/s eta 0:00:01\r",
      "\u001b[K     |██████████████████▍             | 163kB 2.8MB/s eta 0:00:01\r",
      "\u001b[K     |███████████████████▋            | 174kB 2.8MB/s eta 0:00:01\r",
      "\u001b[K     |████████████████████▊           | 184kB 2.8MB/s eta 0:00:01\r",
      "\u001b[K     |██████████████████████          | 194kB 2.8MB/s eta 0:00:01\r",
      "\u001b[K     |███████████████████████         | 204kB 2.8MB/s eta 0:00:01\r",
      "\u001b[K     |████████████████████████▏       | 215kB 2.8MB/s eta 0:00:01\r",
      "\u001b[K     |█████████████████████████▍      | 225kB 2.8MB/s eta 0:00:01\r",
      "\u001b[K     |██████████████████████████▌     | 235kB 2.8MB/s eta 0:00:01\r",
      "\u001b[K     |███████████████████████████▋    | 245kB 2.8MB/s eta 0:00:01\r",
      "\u001b[K     |████████████████████████████▉   | 256kB 2.8MB/s eta 0:00:01\r",
      "\u001b[K     |██████████████████████████████  | 266kB 2.8MB/s eta 0:00:01\r",
      "\u001b[K     |███████████████████████████████▏| 276kB 2.8MB/s eta 0:00:01\r",
      "\u001b[K     |████████████████████████████████| 286kB 2.8MB/s \n",
      "\u001b[?25hCollecting wget\n",
      "  Downloading https://files.pythonhosted.org/packages/47/6a/62e288da7bcda82b935ff0c6cfe542970f04e29c756b0e147251b2fb251f/wget-3.2.zip\n",
      "Collecting tmdbsimple\n",
      "  Downloading https://files.pythonhosted.org/packages/52/d7/e84d96acfff3154bd84cc139472fb3d1293fabf20cd150833b3229c1e40d/tmdbsimple-2.2.0-py2.py3-none-any.whl\n",
      "Requirement already satisfied: lxml in /usr/local/lib/python3.6/dist-packages (from imdbpy) (4.2.6)\n",
      "Requirement already satisfied: SQLAlchemy in /usr/local/lib/python3.6/dist-packages (from imdbpy) (1.3.3)\n",
      "Requirement already satisfied: requests in /usr/local/lib/python3.6/dist-packages (from tmdbsimple) (2.21.0)\n",
      "Requirement already satisfied: urllib3<1.25,>=1.21.1 in /usr/local/lib/python3.6/dist-packages (from requests->tmdbsimple) (1.24.3)\n",
      "Requirement already satisfied: certifi>=2017.4.17 in /usr/local/lib/python3.6/dist-packages (from requests->tmdbsimple) (2019.3.9)\n",
      "Requirement already satisfied: chardet<3.1.0,>=3.0.2 in /usr/local/lib/python3.6/dist-packages (from requests->tmdbsimple) (3.0.4)\n",
      "Requirement already satisfied: idna<2.9,>=2.5 in /usr/local/lib/python3.6/dist-packages (from requests->tmdbsimple) (2.8)\n",
      "Building wheels for collected packages: wget\n",
      "  Building wheel for wget (setup.py) ... \u001b[?25l\u001b[?25hdone\n",
      "  Stored in directory: /root/.cache/pip/wheels/40/15/30/7d8f7cea2902b4db79e3fea550d7d7b85ecb27ef992b618f3f\n",
      "Successfully built wget\n",
      "Installing collected packages: imdbpy, wget, tmdbsimple\n",
      "Successfully installed imdbpy-6.6 tmdbsimple-2.2.0 wget-3.2\n"
     ]
    }
   ],
   "source": [
    "!pip install imdbpy wget tmdbsimple "
   ]
  },
  {
   "cell_type": "markdown",
   "metadata": {
    "colab_type": "text",
    "id": "m2BrO7VMISM4"
   },
   "source": [
    "import all the required packages"
   ]
  },
  {
   "cell_type": "code",
   "execution_count": 0,
   "metadata": {
    "colab": {},
    "colab_type": "code",
    "id": "lWj4YSooDnjP"
   },
   "outputs": [],
   "source": [
    "import urllib.request\n",
    "import requests\n",
    "import json\n",
    "from imdb import IMDb\n",
    "import time\n",
    "import itertools\n",
    "import wget\n",
    "import os\n",
    "import tmdbsimple as tmdb\n",
    "import numpy as np\n",
    "import random\n",
    "import matplotlib\n",
    "import matplotlib.pyplot as plt\n",
    "%matplotlib inline\n",
    "import seaborn as sns\n",
    "import pickle"
   ]
  },
  {
   "cell_type": "markdown",
   "metadata": {
    "colab_type": "text",
    "id": "LLpi_GAuIxej"
   },
   "source": [
    "**TEST:** the folder that saves posters of TV series"
   ]
  },
  {
   "cell_type": "code",
   "execution_count": 0,
   "metadata": {
    "colab": {},
    "colab_type": "code",
    "id": "vB1IPN8eIIig"
   },
   "outputs": [],
   "source": [
    "# set here the path where you want the scraped folders to be saved!\n",
    "poster_folder='TVs_posters_final/'\n",
    "if poster_folder.split('/')[0] in os.listdir('./'):\n",
    "    print('Folder already exists')\n",
    "else:\n",
    "    os.mkdir('./'+poster_folder)"
   ]
  },
  {
   "cell_type": "markdown",
   "metadata": {
    "colab_type": "text",
    "id": "5WJj9VbRI7JN"
   },
   "source": [
    "**TEST:**Check the folder"
   ]
  },
  {
   "cell_type": "code",
   "execution_count": 0,
   "metadata": {
    "colab": {
     "base_uri": "https://localhost:8080/",
     "height": 35
    },
    "colab_type": "code",
    "id": "FDOi_69OI-3N",
    "outputId": "535a0b9e-b3d6-4073-c381-c1c1bc08aaf6"
   },
   "outputs": [
    {
     "data": {
      "text/plain": [
       "'TVs_posters_final/'"
      ]
     },
     "execution_count": 6,
     "metadata": {
      "tags": []
     },
     "output_type": "execute_result"
    }
   ],
   "source": [
    "poster_folder"
   ]
  },
  {
   "cell_type": "markdown",
   "metadata": {
    "colab_type": "text",
    "id": "ngzgFz0Amleo"
   },
   "source": [
    "# Retrive TMDB data "
   ]
  },
  {
   "cell_type": "markdown",
   "metadata": {
    "colab_type": "text",
    "id": "fEuHdOQ-y-NL"
   },
   "source": [
    "一些自定义的获取TMDB数据的函数"
   ]
  },
  {
   "cell_type": "code",
   "execution_count": 0,
   "metadata": {
    "colab": {},
    "colab_type": "code",
    "id": "47STLVmGJCYq"
   },
   "outputs": [],
   "source": [
    "# For the purpose of this example, i will be working with the world-famous TV series 'Game of Thrones'\n",
    "\n",
    "# Generate your own API key as explained\n",
    "api_key = '04178dacbf3055a2d253b5160fd433ba' #Enter your own API key here to run the code below. \n",
    "\n",
    "tmdb.API_KEY = api_key #This sets the API key setting for the tmdb object\n",
    "search = tmdb.Search() #this instantiates a tmdb \"search\" object which allows your to search for the videos\n",
    "\n",
    "# These functions take in a string movie or tv show name i.e. like \"The Matrix\" or \"Interstellar\"\n",
    "# What they return is pretty much clear in the name - Poster, ID , Info or genre of the tv show\n",
    "def grab_poster_tmdb(tvshow):\n",
    "    response = search.tv(query=tvshow)\n",
    "    id=response['results'][0]['id']\n",
    "    tvshow = tmdb.TV(id)\n",
    "    posterp=tvshow.info()['poster_path']\n",
    "    title=tvshow.info()['original_name']\n",
    "    url='image.tmdb.org/t/p/original'+posterp\n",
    "    title='_'.join(title.split(' '))\n",
    "    strcmd='wget -O '+poster_folder+title+'.jpg '+url\n",
    "    os.system(strcmd)\n",
    "\n",
    "def get_tvshow_id_tmdb(tvshow):\n",
    "    response = search.tv(query=tvshow)\n",
    "    tv_id=response['results'][0]['id']\n",
    "    return tv_id\n",
    "\n",
    "def get_tvshow_info_tmdb(tvshow):\n",
    "    response = search.tv(query=tvshow)\n",
    "    id=response['results'][0]['id']\n",
    "    tvshow = tmdb.TV(id)\n",
    "    info=tvshow.info()\n",
    "    return info\n",
    "\n",
    "def get_tvshow_genres_tmdb(tvshow):\n",
    "    response = search.tv(query=tvshow)\n",
    "    id=response['results'][0]['id']\n",
    "    tvshow = tmdb.TV(id)\n",
    "    genres=tvshow.info()['genres']\n",
    "    return genres"
   ]
  },
  {
   "cell_type": "markdown",
   "metadata": {
    "colab_type": "text",
    "id": "E7d7xv5MjfMu"
   },
   "source": [
    "**Test:**try some functions"
   ]
  },
  {
   "cell_type": "code",
   "execution_count": 0,
   "metadata": {
    "colab": {
     "base_uri": "https://localhost:8080/",
     "height": 34
    },
    "colab_type": "code",
    "id": "8uf27y9gjR0_",
    "outputId": "b24fd36e-6138-4275-a815-69bf419ff33a"
   },
   "outputs": [
    {
     "name": "stdout",
     "output_type": "stream",
     "text": [
      "[{'id': 10765, 'name': 'Sci-Fi & Fantasy'}, {'id': 18, 'name': 'Drama'}, {'id': 10759, 'name': 'Action & Adventure'}]\n"
     ]
    }
   ],
   "source": [
    "print(get_tvshow_genres_tmdb(\"Game of Thrones\"))"
   ]
  },
  {
   "cell_type": "code",
   "execution_count": 0,
   "metadata": {
    "colab": {
     "base_uri": "https://localhost:8080/",
     "height": 72
    },
    "colab_type": "code",
    "id": "uP37NhMpjiq2",
    "outputId": "2b43089c-760b-4228-c3be-91bb5523a234"
   },
   "outputs": [
    {
     "name": "stdout",
     "output_type": "stream",
     "text": [
      "All the Tv shows information from TMDB gets stored in a dictionary with the following keys for easy access -\n"
     ]
    },
    {
     "data": {
      "text/plain": [
       "dict_keys(['backdrop_path', 'created_by', 'episode_run_time', 'first_air_date', 'genres', 'homepage', 'id', 'in_production', 'languages', 'last_air_date', 'last_episode_to_air', 'name', 'next_episode_to_air', 'networks', 'number_of_episodes', 'number_of_seasons', 'origin_country', 'original_language', 'original_name', 'overview', 'popularity', 'poster_path', 'production_companies', 'seasons', 'status', 'type', 'vote_average', 'vote_count'])"
      ]
     },
     "execution_count": 8,
     "metadata": {
      "tags": []
     },
     "output_type": "execute_result"
    }
   ],
   "source": [
    "info=get_tvshow_info_tmdb(\"Game of Thrones\")\n",
    "print(\"All the Tv shows information from TMDB gets stored in a dictionary with the following keys for easy access -\")\n",
    "info.keys()"
   ]
  },
  {
   "cell_type": "code",
   "execution_count": 0,
   "metadata": {
    "colab": {
     "base_uri": "https://localhost:8080/",
     "height": 34
    },
    "colab_type": "code",
    "id": "i5-Y15dxj1bl",
    "outputId": "c5085c3f-fa03-46f1-c7f6-082e854bc730"
   },
   "outputs": [
    {
     "name": "stdout",
     "output_type": "stream",
     "text": [
      "/qsD5OHqW7DSnaQ2afwz8Ptht1Xb.jpg\n"
     ]
    }
   ],
   "source": [
    "info=get_tvshow_info_tmdb(\"Game of Thrones\")\n",
    "print( info['backdrop_path'])"
   ]
  },
  {
   "cell_type": "markdown",
   "metadata": {
    "colab_type": "text",
    "id": "okK3tFsWmfqf"
   },
   "source": [
    "# Retrive IMDB data"
   ]
  },
  {
   "cell_type": "code",
   "execution_count": 0,
   "metadata": {
    "colab": {
     "base_uri": "https://localhost:8080/",
     "height": 657
    },
    "colab_type": "code",
    "id": "BoPSzkJakuLK",
    "outputId": "5980c476-973d-4898-d0a9-89ed0a0a9fe4"
   },
   "outputs": [
    {
     "name": "stdout",
     "output_type": "stream",
     "text": [
      "All the information we can get about this tv shows from IMDB-\n"
     ]
    },
    {
     "data": {
      "text/plain": [
       "['title',\n",
       " 'kind',\n",
       " 'year',\n",
       " 'cast',\n",
       " 'genres',\n",
       " 'runtimes',\n",
       " 'countries',\n",
       " 'country codes',\n",
       " 'language codes',\n",
       " 'color info',\n",
       " 'aspect ratio',\n",
       " 'sound mix',\n",
       " 'certificates',\n",
       " 'number of seasons',\n",
       " 'rating',\n",
       " 'votes',\n",
       " 'cover url',\n",
       " 'plot outline',\n",
       " 'languages',\n",
       " 'series years',\n",
       " 'akas',\n",
       " 'seasons',\n",
       " 'writer',\n",
       " 'production companies',\n",
       " 'distributors',\n",
       " 'special effects',\n",
       " 'other companies',\n",
       " 'plot',\n",
       " 'synopsis',\n",
       " 'canonical title',\n",
       " 'long imdb title',\n",
       " 'long imdb canonical title',\n",
       " 'smart canonical title',\n",
       " 'smart long imdb canonical title',\n",
       " 'full-size cover url']"
      ]
     },
     "execution_count": 5,
     "metadata": {
      "tags": []
     },
     "output_type": "execute_result"
    }
   ],
   "source": [
    "# Create the IMDB object that will be used to access the IMDb's database.\n",
    "imdb_object = IMDb() # by default access the web.\n",
    "\n",
    "# Search for a movie or tvshows (get a list of tv show or movie objects).\n",
    "results = imdb_object.search_movie('Game of Thrones')\n",
    "\n",
    "# As this returns a list of all tv shows  containing the title, we pick the first element\n",
    "tv = results[0]\n",
    "\n",
    "imdb_object.update(tv)\n",
    "\n",
    "print(\"All the information we can get about this tv shows from IMDB-\")\n",
    "tv.keys()"
   ]
  },
  {
   "cell_type": "markdown",
   "metadata": {
    "colab_type": "text",
    "id": "GoPUDSQOzT5I"
   },
   "source": [
    "**TEST:**try the function"
   ]
  },
  {
   "cell_type": "code",
   "execution_count": 0,
   "metadata": {
    "colab": {
     "base_uri": "https://localhost:8080/",
     "height": 34
    },
    "colab_type": "code",
    "id": "gyqx2Z3UmxFi",
    "outputId": "c119d50d-b7ab-431b-a669-469e0fbaf7ac"
   },
   "outputs": [
    {
     "name": "stdout",
     "output_type": "stream",
     "text": [
      "The genres associated with the tv show are -  ['Action', 'Adventure', 'Drama', 'Fantasy', 'Romance']\n"
     ]
    }
   ],
   "source": [
    "print(\"The genres associated with the tv show are - \",tv['genres'])"
   ]
  },
  {
   "cell_type": "markdown",
   "metadata": {
    "colab_type": "text",
    "id": "oKPNdL3Dm9ph"
   },
   "source": [
    "See the difference of genre representation in IMDB & TMDB"
   ]
  },
  {
   "cell_type": "code",
   "execution_count": 0,
   "metadata": {
    "colab": {
     "base_uri": "https://localhost:8080/",
     "height": 72
    },
    "colab_type": "code",
    "id": "8MOZ5IBsm84V",
    "outputId": "ddcd4fde-6a7c-4933-a7b3-da9d063b1477"
   },
   "outputs": [
    {
     "name": "stdout",
     "output_type": "stream",
     "text": [
      "The genres for GOT pulled from IMDB are - ['Action', 'Adventure', 'Drama', 'Fantasy', 'Romance']\n",
      "The genres for GOT pulled from TMDB are - [{'id': 10765, 'name': 'Sci-Fi & Fantasy'}, {'id': 18, 'name': 'Drama'}, {'id': 10759, 'name': 'Action & Adventure'}]\n"
     ]
    }
   ],
   "source": [
    "print (\"The genres for GOT pulled from IMDB are -\",tv['genres'])\n",
    "print (\"The genres for GOT pulled from TMDB are -\",get_tvshow_genres_tmdb(\"Game of Thrones\"))"
   ]
  },
  {
   "cell_type": "markdown",
   "metadata": {
    "colab_type": "text",
    "id": "bmZ2T_nToBFW"
   },
   "source": [
    "  # TEST: use top-20 tv shows to see their genres"
   ]
  },
  {
   "cell_type": "code",
   "execution_count": 0,
   "metadata": {
    "colab": {
     "base_uri": "https://localhost:8080/",
     "height": 34
    },
    "colab_type": "code",
    "id": "LZ3gCikNnd1f",
    "outputId": "b7d34a1a-a840-4249-8fc1-3b5f22572922"
   },
   "outputs": [
    {
     "name": "stdout",
     "output_type": "stream",
     "text": [
      "20\n"
     ]
    }
   ],
   "source": [
    "all_tvshows=tmdb.TV()\n",
    "top_tvshows=all_tvshows.popular()\n",
    "\n",
    "# This is a dictionary, and to access results we use the key 'results' which returns info on 20 tvshows\n",
    "print(len(top_tvshows['results']))\n",
    "top20_tvs=top_tvshows['results']"
   ]
  },
  {
   "cell_type": "code",
   "execution_count": 0,
   "metadata": {
    "colab": {
     "base_uri": "https://localhost:8080/",
     "height": 72
    },
    "colab_type": "code",
    "id": "wNrNVgcnoAGx",
    "outputId": "aa21d61d-91b3-4984-e758-c99cb857e2e2"
   },
   "outputs": [
    {
     "name": "stdout",
     "output_type": "stream",
     "text": [
      "{'original_name': 'Game of Thrones', 'genre_ids': [18, 10759, 10765], 'name': 'Game of Thrones', 'popularity': 928.377, 'origin_country': ['US'], 'vote_count': 5701, 'first_air_date': '2011-04-17', 'backdrop_path': '/qsD5OHqW7DSnaQ2afwz8Ptht1Xb.jpg', 'original_language': 'en', 'id': 1399, 'vote_average': 8.2, 'overview': \"Seven noble families fight for control of the mythical land of Westeros. Friction between the houses leads to full-scale war. All while a very ancient evil awakens in the farthest north. Amidst the war, a neglected military order of misfits, the Night's Watch, is all that stands between the realms of men and icy horrors beyond.\", 'poster_path': '/u3bZgnGQ9T01sWNhyveQz0wH0Hl.jpg'}\n",
      "Game of Thrones\n"
     ]
    }
   ],
   "source": [
    "#The hottest tv show\n",
    "first_tv=top20_tvs[0]\n",
    "print(first_tv)\n",
    "print(first_tv['original_name'])"
   ]
  },
  {
   "cell_type": "code",
   "execution_count": 0,
   "metadata": {
    "colab": {
     "base_uri": "https://localhost:8080/",
     "height": 105
    },
    "colab_type": "code",
    "id": "I3liZomlokSk",
    "outputId": "3165cd43-3e63-4bbf-d356-ca91c804ce2a"
   },
   "outputs": [
    {
     "name": "stdout",
     "output_type": "stream",
     "text": [
      "Game of Thrones\n",
      "ワンパンマン\n",
      "The Flash\n",
      "Arrow\n",
      "The 100\n"
     ]
    }
   ],
   "source": [
    "for i in range(len(top20_tvs)):\n",
    "    tv=top20_tvs[i]\n",
    "    title=tv['original_name']\n",
    "    print(title)\n",
    "    if i==4:\n",
    "        break"
   ]
  },
  {
   "cell_type": "code",
   "execution_count": 0,
   "metadata": {
    "colab": {
     "base_uri": "https://localhost:8080/",
     "height": 105
    },
    "colab_type": "code",
    "id": "Bd8Sg-JXo2wr",
    "outputId": "32cc3e01-d79f-458a-b1c3-679127436540"
   },
   "outputs": [
    {
     "name": "stdout",
     "output_type": "stream",
     "text": [
      "[18, 10759, 10765]\n",
      "[16, 35, 10759]\n",
      "[18, 10765]\n",
      "[80, 18, 9648, 10759]\n",
      "[18, 10765]\n"
     ]
    }
   ],
   "source": [
    "for i in range(len(top20_tvs)):\n",
    "    tv=top20_tvs[i]\n",
    "    genres=tv['genre_ids']\n",
    "    print(genres)\n",
    "    if i==4:\n",
    "        break"
   ]
  },
  {
   "cell_type": "markdown",
   "metadata": {
    "colab_type": "text",
    "id": "YswRzwDUpVEM"
   },
   "source": [
    "# Convert the numbers into the genre names"
   ]
  },
  {
   "cell_type": "code",
   "execution_count": 0,
   "metadata": {
    "colab": {},
    "colab_type": "code",
    "id": "10oWB-gro-3Y"
   },
   "outputs": [],
   "source": [
    "# Create a tmdb genre object!\n",
    "genres=tmdb.Genres()\n",
    "# the list() method of the Genres() class returns a listing of all genres in the form of a dictionary.\n",
    "list_of_genres=genres.tv_list()['genres']"
   ]
  },
  {
   "cell_type": "code",
   "execution_count": 0,
   "metadata": {
    "colab": {},
    "colab_type": "code",
    "id": "26N-0tvdpPyi"
   },
   "outputs": [],
   "source": [
    "Genre_ID_to_name={}\n",
    "for i in range(len(list_of_genres)):\n",
    "    genre_id=list_of_genres[i]['id']\n",
    "    genre_name=list_of_genres[i]['name']\n",
    "    #print(genre_id)\n",
    "    Genre_ID_to_name[genre_id]=genre_name"
   ]
  },
  {
   "cell_type": "markdown",
   "metadata": {
    "colab_type": "text",
    "id": "kyq_kfgkz2oL"
   },
   "source": [
    "**TEST:** test if it works"
   ]
  },
  {
   "cell_type": "code",
   "execution_count": 0,
   "metadata": {
    "colab": {
     "base_uri": "https://localhost:8080/",
     "height": 105
    },
    "colab_type": "code",
    "id": "lWdcFuyKpTzT",
    "outputId": "80ccdaba-847b-4623-bc75-f5cb998b6242"
   },
   "outputs": [
    {
     "name": "stdout",
     "output_type": "stream",
     "text": [
      "Game of Thrones ['Drama', 'Action & Adventure', 'Sci-Fi & Fantasy']\n",
      "ワンパンマン ['Animation', 'Comedy', 'Action & Adventure']\n",
      "The Flash ['Drama', 'Sci-Fi & Fantasy']\n",
      "Arrow ['Crime', 'Drama', 'Mystery', 'Action & Adventure']\n",
      "The 100 ['Drama', 'Sci-Fi & Fantasy']\n"
     ]
    }
   ],
   "source": [
    "for i in range(len(top20_tvs)):\n",
    "    tv=top20_tvs[i]\n",
    "    title=tv['original_name']\n",
    "    genre_ids=tv['genre_ids']\n",
    "    genre_names=[]\n",
    "    for id in genre_ids:\n",
    "        genre_name=Genre_ID_to_name[id]\n",
    "        genre_names.append(genre_name)\n",
    "    print (title,genre_names)\n",
    "    if i==4:\n",
    "        break"
   ]
  },
  {
   "cell_type": "code",
   "execution_count": 0,
   "metadata": {
    "colab": {},
    "colab_type": "code",
    "id": "iA0zvIM8pjnP"
   },
   "outputs": [],
   "source": [
    "all_tvshows=tmdb.TV()\n",
    "top_tvshows=all_tvshows.popular()\n",
    "\n",
    "# This is a dictionary, and to access results we use the key 'results' which returns info on 20 tvshows\n",
    "len(top_tvshows['results'])\n",
    "top20_tvs=top_tvshows['results']"
   ]
  },
  {
   "cell_type": "markdown",
   "metadata": {
    "colab_type": "text",
    "id": "XedIMTU90C99"
   },
   "source": [
    "# Prepare for the dataset:scrape a tv show list"
   ]
  },
  {
   "cell_type": "code",
   "execution_count": 0,
   "metadata": {
    "colab": {},
    "colab_type": "code",
    "id": "ON5gvdIO0Uuu"
   },
   "outputs": [],
   "source": [
    "pages_with_1000 = 6\n",
    "pages_with_10000 = 51"
   ]
  },
  {
   "cell_type": "code",
   "execution_count": 0,
   "metadata": {
    "colab": {
     "base_uri": "https://localhost:8080/",
     "height": 52
    },
    "colab_type": "code",
    "id": "R3Yz_UcCp03k",
    "outputId": "ad0ddbdb-b440-45fe-ff9c-d637adf0c6fa"
   },
   "outputs": [
    {
     "name": "stdout",
     "output_type": "stream",
     "text": [
      "Pulling tv show list, Please wait...\n",
      "Done!\n"
     ]
    }
   ],
   "source": [
    "# Comment out this cell once the data is saved into pickle file.\n",
    "all_tvshows=tmdb.TV()\n",
    "topX_tvshows=[]\n",
    "print('Pulling tv show list, Please wait...')\n",
    "#select a number of pages according to the required number of tv shows\n",
    "for i in range(1,pages_with_10000):\n",
    "    if i%15==0:\n",
    "        time.sleep(1)\n",
    "    tvshows_on_this_page=all_tvshows.popular(page=i)['results']\n",
    "    topX_tvshows.extend(tvshows_on_this_page)\n",
    "len(topX_tvshows)\n",
    "f3=open('tvshow_list.pckl','wb')\n",
    "pickle.dump(topX_tvshows,f3)\n",
    "f3.close()\n",
    "print('Done!')"
   ]
  },
  {
   "cell_type": "code",
   "execution_count": 0,
   "metadata": {
    "colab": {},
    "colab_type": "code",
    "id": "a8J1ahnDqtMh"
   },
   "outputs": [],
   "source": [
    "f3=open('tvshow_list.pckl','rb')\n",
    "topX_tvshows=pickle.load(f3)\n",
    "f3.close()"
   ]
  },
  {
   "cell_type": "markdown",
   "metadata": {
    "colab_type": "text",
    "id": "jkgkvwGp7JH0"
   },
   "source": [
    "# Pairwise camparison"
   ]
  },
  {
   "cell_type": "code",
   "execution_count": 0,
   "metadata": {
    "colab": {},
    "colab_type": "code",
    "id": "i0QPeqa8rBR_"
   },
   "outputs": [],
   "source": [
    "# This function just generates all possible pairs of shows\n",
    "def list2pairs(l):\n",
    "    # itertools.combinations(l,2) makes all pairs of length 2 from list l.\n",
    "    pairs = list(itertools.combinations(l,2))\n",
    "    # then the one item pairs, as duplicate pairs aren't accounted for by itertools\n",
    "    #bug fixed:(i,i)\n",
    "    for i in l:\n",
    "        pairs.append((i,i))\n",
    "    return pairs"
   ]
  },
  {
   "cell_type": "code",
   "execution_count": 0,
   "metadata": {
    "colab": {},
    "colab_type": "code",
    "id": "D_AoFI2Hsmll"
   },
   "outputs": [],
   "source": [
    "# get all genre lists pairs from all tvshows\n",
    "allPairs = []\n",
    "for tvshow in topX_tvshows:\n",
    "    allPairs.extend(list2pairs(tvshow['genre_ids']))\n",
    "    \n",
    "#as np.unique do not support 2d arrays,sowe use the simplest way\n",
    "nr_ids = np.sort(list(Genre_ID_to_name.keys()))\n",
    "visGrid = np.zeros((len(nr_ids), len(nr_ids)))\n",
    "for p in allPairs:\n",
    "    visGrid[np.argwhere(nr_ids==p[0]), np.argwhere(nr_ids==p[1])]+=1\n",
    "    if p[1] != p[0]:\n",
    "        visGrid[np.argwhere(nr_ids==p[1]), np.argwhere(nr_ids==p[0])]+=1"
   ]
  },
  {
   "cell_type": "code",
   "execution_count": 0,
   "metadata": {
    "colab": {
     "base_uri": "https://localhost:8080/",
     "height": 374
    },
    "colab_type": "code",
    "id": "0FFGX_gitCsR",
    "outputId": "6f49b553-6de5-405f-ebc2-53d6101b6bec"
   },
   "outputs": [
    {
     "data": {
      "text/plain": [
       "<matplotlib.axes._subplots.AxesSubplot at 0x7fc1c0f208d0>"
      ]
     },
     "execution_count": 13,
     "metadata": {
      "tags": []
     },
     "output_type": "execute_result"
    },
    {
     "data": {
      "image/png": "[encoded data removed]",
      "text/plain": [
       "<Figure size 432x288 with 2 Axes>"
      ]
     },
     "metadata": {
      "tags": []
     },
     "output_type": "display_data"
    }
   ],
   "source": [
    "annot_lookup = []\n",
    "for i in range(len(nr_ids)):\n",
    "  if nr_ids[i] in Genre_ID_to_name:\n",
    "    annot_lookup.append(Genre_ID_to_name[nr_ids[i]])\n",
    "  else:\n",
    "    annot_lookup.append(nr_ids[i])\n",
    "\n",
    "sns.heatmap(visGrid, xticklabels=annot_lookup, yticklabels=annot_lookup)"
   ]
  },
  {
   "cell_type": "code",
   "execution_count": 0,
   "metadata": {
    "colab": {},
    "colab_type": "code",
    "id": "FBGQl6Vy5TL8"
   },
   "outputs": [],
   "source": [
    "from sklearn.cluster import SpectralCoclustering"
   ]
  },
  {
   "cell_type": "code",
   "execution_count": 0,
   "metadata": {
    "colab": {
     "base_uri": "https://localhost:8080/",
     "height": 369
    },
    "colab_type": "code",
    "id": "2ZugEME35XlI",
    "outputId": "c63c09d8-7f7c-400c-985e-c454d08a5ebe"
   },
   "outputs": [
    {
     "data": {
      "image/png": "[encoded data removed]",
      "text/plain": [
       "<Figure size 432x288 with 2 Axes>"
      ]
     },
     "metadata": {
      "tags": []
     },
     "output_type": "display_data"
    }
   ],
   "source": [
    "model = SpectralCoclustering(n_clusters=5)\n",
    "model.fit(visGrid)\n",
    "\n",
    "fit_data = visGrid[np.argsort(model.row_labels_)]\n",
    "fit_data = fit_data[:, np.argsort(model.column_labels_)]\n",
    "\n",
    "annot_lookup_sorted = []\n",
    "for i in np.argsort(model.row_labels_):\n",
    "    annot_lookup_sorted.append(Genre_ID_to_name[nr_ids[i]])\n",
    "    \n",
    "sns.heatmap(fit_data, xticklabels=annot_lookup_sorted, yticklabels=annot_lookup_sorted, annot=False)\n",
    "plt.title(\"After biclustering; rearranged to show biclusters\")\n",
    "\n",
    "plt.show()"
   ]
  },
  {
   "cell_type": "markdown",
   "metadata": {
    "colab_type": "text",
    "id": "o7T_nIzz7ORw"
   },
   "source": [
    "# Sample the same number of  tv shows per genre"
   ]
  },
  {
   "cell_type": "code",
   "execution_count": 0,
   "metadata": {
    "colab": {
     "base_uri": "https://localhost:8080/",
     "height": 52
    },
    "colab_type": "code",
    "id": "_nITZhm05e6K",
    "outputId": "7d4e51ec-ea1b-4ca3-a823-dff39baae407"
   },
   "outputs": [
    {
     "name": "stdout",
     "output_type": "stream",
     "text": [
      "Starting pulling tvshows from TMDB. If you want to debug, uncomment the print command. This will take a while, please wait...\n",
      "Pulled tv shows for genres - 16,18,35,37,80,99,9648,10751,10759,10762,10763,10764,10765,10766,10767,10768\n"
     ]
    }
   ],
   "source": [
    "# Done before, reading from pickle file now to maintain consistency of data!\n",
    "# We now sample 100 tv shows per genre. Problem is that the sorting is by popular tvshows, so they will overlap. \n",
    "# Need to exclude shows that were already sampled. \n",
    "tvshows = []\n",
    "baseyear = 2019\n",
    "\n",
    "print('Starting pulling tvshows from TMDB. If you want to debug, uncomment the print command. This will take a while, please wait...')\n",
    "done_ids=[]\n",
    "for g_id in nr_ids:\n",
    "    #print('Pulling tv shows for genre ID '+g_id)\n",
    "    baseyear -= 1\n",
    "    #pages to 60 are for 10000 tv shows;the number can change\n",
    "    for page in range(1,60,1):\n",
    "        time.sleep(0.5)\n",
    "    \n",
    "        url = 'https://api.themoviedb.org/3/discover/tv?api_key=' + api_key\n",
    "        url += '&language=en-US&sort_by=popularity.desc&year=' + str(baseyear) \n",
    "        url += '&with_genres=' + str(g_id) + '&page=' + str(page)\n",
    "\n",
    "        data = urllib.request.urlopen(url).read()\n",
    "\n",
    "        dataDict = json.loads(data)\n",
    "        tvshows.extend(dataDict[\"results\"])\n",
    "    done_ids.append(str(g_id))\n",
    "print(\"Pulled tv shows for genres - \"+','.join(done_ids))"
   ]
  },
  {
   "cell_type": "code",
   "execution_count": 0,
   "metadata": {
    "colab": {},
    "colab_type": "code",
    "id": "e_FfFuZU7G05"
   },
   "outputs": [],
   "source": [
    "# comment this cell after the first time\n",
    "f6=open(\"tvshows_for_posters\",'wb')\n",
    "pickle.dump(tvshows,f6)\n",
    "f6.close()"
   ]
  },
  {
   "cell_type": "code",
   "execution_count": 0,
   "metadata": {
    "colab": {},
    "colab_type": "code",
    "id": "5O21pkZO7eGE"
   },
   "outputs": [],
   "source": [
    "f6=open(\"tvshows_for_posters\",'rb')\n",
    "tvshows=pickle.load(f6)\n",
    "f6.close()"
   ]
  },
  {
   "cell_type": "code",
   "execution_count": 0,
   "metadata": {
    "colab": {
     "base_uri": "https://localhost:8080/",
     "height": 70
    },
    "colab_type": "code",
    "id": "FGynNjuU7xEZ",
    "outputId": "b51e1115-bedc-4ccc-8bb4-2ee777b566d5"
   },
   "outputs": [
    {
     "name": "stdout",
     "output_type": "stream",
     "text": [
      "originally we had  15702  tv shows\n",
      "11602\n",
      "After removing duplicates we have  11602  tv shows\n"
     ]
    }
   ],
   "source": [
    "tvshow_ids = [m['id'] for m in tvshows]\n",
    "print (\"originally we had \",len(tvshow_ids),\" tv shows\")\n",
    "tvshow_ids=np.unique(tvshow_ids)\n",
    "print (len(tvshow_ids))\n",
    "seen_before=[]\n",
    "no_duplicate_tvshows=[]\n",
    "for i in range(len(tvshows)):\n",
    "    tvshow=tvshows[i]\n",
    "    id=tvshow['id']\n",
    "    if id in seen_before:\n",
    "        continue\n",
    "#         print \"Seen before\"\n",
    "    else:\n",
    "        seen_before.append(id)\n",
    "        no_duplicate_tvshows.append(tvshow)\n",
    "print (\"After removing duplicates we have \",len(no_duplicate_tvshows), \" tv shows\")"
   ]
  },
  {
   "cell_type": "markdown",
   "metadata": {
    "colab_type": "text",
    "id": "2iCAkqqvQb6D"
   },
   "source": [
    "# Get a poster dataset of tv shows"
   ]
  },
  {
   "cell_type": "code",
   "execution_count": 0,
   "metadata": {
    "colab": {
     "base_uri": "https://localhost:8080/",
     "height": 526
    },
    "colab_type": "code",
    "id": "gxUfjSl_8XYa",
    "outputId": "6d587ad6-7480-40a3-93c3-0362ce57fd7b"
   },
   "outputs": [
    {
     "name": "stdout",
     "output_type": "stream",
     "text": [
      "Total tv shows :  15692\n",
      "Started downloading posters...\n",
      "Downloaded first. Code is working fine. Please wait, this will take quite some time...\n",
      "Done with  1000  tv shows!\n",
      "Trying to get poster for  D'Artacan y los Tres Mosqueperros\n",
      "Done with  2000  tv shows!\n",
      "Trying to get poster for  Great Performances\n",
      "Done with  3000  tv shows!\n",
      "Trying to get poster for  アウトブレイク・カンパニー 萌える侵略者\n",
      "Done with  4000  tv shows!\n",
      "Trying to get poster for  SOKO Stuttgart\n",
      "Done with  5000  tv shows!\n",
      "Trying to get poster for  Expedition Unknown\n",
      "Done with  6000  tv shows!\n",
      "Trying to get poster for  Married in America\n",
      "Done with  7000  tv shows!\n",
      "Trying to get poster for  Read All About It!\n",
      "Done with  8000  tv shows!\n",
      "Trying to get poster for  Long Ago and Far Away\n",
      "Done with  9000  tv shows!\n",
      "Trying to get poster for  メガロボクス\n",
      "Done with  10000  tv shows!\n",
      "Trying to get poster for  Timm Thaler\n",
      "Done with  11000  tv shows!\n",
      "Trying to get poster for  Bread N' Butter\n",
      "Done with  12000  tv shows!\n",
      "Trying to get poster for  Beyond Scared Straight\n",
      "Done with  13000  tv shows!\n",
      "Trying to get poster for  Sliders\n"
     ]
    }
   ],
   "source": [
    "poster_tvshows=[]\n",
    "counter=0\n",
    "tvshows_no_poster=[]\n",
    "print(\"Total tv shows : \",len(tvshows))\n",
    "print(\"Started downloading posters...\")\n",
    "for tvshow in tvshows:\n",
    "    id=tvshow['id']\n",
    "    title=tvshow['original_name']\n",
    "    if counter==1:\n",
    "        print('Downloaded first. Code is working fine. Please wait, this will take quite some time...')\n",
    "    if counter%1000==0 and counter!=0:\n",
    "        print (\"Done with \",counter,\" tv shows!\")\n",
    "        print (\"Trying to get poster for \",title)\n",
    "    try:\n",
    "        grab_poster_tmdb(title)\n",
    "        poster_tvshows.append(tvshow)\n",
    "    except:\n",
    "        try:\n",
    "            time.sleep(1)\n",
    "            grab_poster_tmdb(title)\n",
    "            poster_tvshows.append(tvshow)\n",
    "        except:\n",
    "            tvshows_no_poster.append(tvshow)\n",
    "    counter+=1\n",
    "print(\"Done with all the posters!\")"
   ]
  },
  {
   "cell_type": "markdown",
   "metadata": {
    "colab_type": "text",
    "id": "MhFnKRA93BQG"
   },
   "source": [
    "**TEST**"
   ]
  },
  {
   "cell_type": "code",
   "execution_count": 0,
   "metadata": {
    "colab": {
     "base_uri": "https://localhost:8080/",
     "height": 52
    },
    "colab_type": "code",
    "id": "127u_fM6O8F1",
    "outputId": "091b8327-4fbc-486c-e052-cc936919306c"
   },
   "outputs": [
    {
     "name": "stdout",
     "output_type": "stream",
     "text": [
      "3280\n",
      "12384\n"
     ]
    }
   ],
   "source": [
    "print (len(tvshows_no_poster))\n",
    "print (len(poster_tvshows))"
   ]
  },
  {
   "cell_type": "code",
   "execution_count": 0,
   "metadata": {
    "colab": {},
    "colab_type": "code",
    "id": "P2TYfVKRPKuk"
   },
   "outputs": [],
   "source": [
    "#comment this cell after the first time\n",
    "f=open('poster_tvshows.pckl','wb')\n",
    "pickle.dump(poster_tvshows,f)\n",
    "f.close()"
   ]
  },
  {
   "cell_type": "code",
   "execution_count": 0,
   "metadata": {
    "colab": {},
    "colab_type": "code",
    "id": "00AeaGUbPrby"
   },
   "outputs": [],
   "source": [
    "f=open('poster_tvshows.pckl','rb')\n",
    "poster_tvshows=pickle.load(f)\n",
    "f.close()"
   ]
  },
  {
   "cell_type": "code",
   "execution_count": 0,
   "metadata": {
    "colab": {},
    "colab_type": "code",
    "id": "upfCsAc7QE0B"
   },
   "outputs": [],
   "source": [
    "#comment this cell after the first time\n",
    "f=open('no_poster_tvshows.pckl','wb')\n",
    "pickle.dump(tvshows_no_poster,f)\n",
    "f.close()"
   ]
  },
  {
   "cell_type": "code",
   "execution_count": 0,
   "metadata": {
    "colab": {},
    "colab_type": "code",
    "id": "Nmva0z2JQN70"
   },
   "outputs": [],
   "source": [
    "f=open('no_poster_tvshows.pckl','rb')\n",
    "tvshows_no_poster=pickle.load(f)\n",
    "f.close()"
   ]
  },
  {
   "cell_type": "markdown",
   "metadata": {
    "colab_type": "text",
    "id": "1wfJOG2pQjSw"
   },
   "source": [
    "# Get the overveiw dataset"
   ]
  },
  {
   "cell_type": "code",
   "execution_count": 0,
   "metadata": {
    "colab": {
     "base_uri": "https://localhost:8080/",
     "height": 35
    },
    "colab_type": "code",
    "id": "b6p9p-R1Qipa",
    "outputId": "412ef8c9-d43a-4c3f-bd09-1878dc4b55f1"
   },
   "outputs": [
    {
     "data": {
      "text/plain": [
       "9802"
      ]
     },
     "execution_count": 20,
     "metadata": {
      "tags": []
     },
     "output_type": "execute_result"
    }
   ],
   "source": [
    "tvshows_with_overviews=[]\n",
    "for i in range(len(no_duplicate_tvshows)):\n",
    "    tvshow=no_duplicate_tvshows[i]\n",
    "    id=tvshow['id']\n",
    "    overview=tvshow['overview']\n",
    "    \n",
    "    if len(overview)==0:\n",
    "        continue\n",
    "    else:\n",
    "        tvshows_with_overviews.append(tvshow)\n",
    "        \n",
    "len(tvshows_with_overviews)"
   ]
  },
  {
   "cell_type": "markdown",
   "metadata": {
    "colab_type": "text",
    "id": "Kcc3TLyKQjbQ"
   },
   "source": [
    "Binarized the overview"
   ]
  },
  {
   "cell_type": "code",
   "execution_count": 0,
   "metadata": {
    "colab": {},
    "colab_type": "code",
    "id": "9aQ-T8v4RLup"
   },
   "outputs": [],
   "source": [
    "genres=[]\n",
    "all_ids=[]\n",
    "for i in range(len(tvshows_with_overviews)):\n",
    "    tvshow=tvshows_with_overviews[i]\n",
    "    id=tvshow['id']\n",
    "    genre_ids=tvshow['genre_ids']\n",
    "    genres.append(genre_ids)\n",
    "    all_ids.extend(genre_ids)"
   ]
  },
  {
   "cell_type": "code",
   "execution_count": 0,
   "metadata": {
    "colab": {},
    "colab_type": "code",
    "id": "elaEw5hURW4d"
   },
   "outputs": [],
   "source": [
    "from sklearn.preprocessing import MultiLabelBinarizer\n",
    "mlb=MultiLabelBinarizer()\n",
    "Y=mlb.fit_transform(genres)"
   ]
  },
  {
   "cell_type": "markdown",
   "metadata": {
    "colab_type": "text",
    "id": "zNNFxyv73c-o"
   },
   "source": [
    "**TEST**"
   ]
  },
  {
   "cell_type": "code",
   "execution_count": 0,
   "metadata": {
    "colab": {
     "base_uri": "https://localhost:8080/",
     "height": 70
    },
    "colab_type": "code",
    "id": "AJlIPONaRdwx",
    "outputId": "790f201e-e523-47db-ba8f-b1d6394ff299"
   },
   "outputs": [
    {
     "name": "stdout",
     "output_type": "stream",
     "text": [
      "(9802, 27)\n",
      "[  23   29 1759 3182    1   13   27 2218   11  238   12 1078 1225   19\n",
      "  995   13   69 1017    5 1427  529  841 1076 1300  445  474  342]\n"
     ]
    }
   ],
   "source": [
    "print(Y.shape)\n",
    "print(np.sum(Y, axis=0))"
   ]
  },
  {
   "cell_type": "code",
   "execution_count": 0,
   "metadata": {
    "colab": {
     "base_uri": "https://localhost:8080/",
     "height": 35
    },
    "colab_type": "code",
    "id": "kkE6RAq0Rgx1",
    "outputId": "3957a13d-392b-4f9b-ba51-2b0692d3fb60"
   },
   "outputs": [
    {
     "data": {
      "text/plain": [
       "16"
      ]
     },
     "execution_count": 24,
     "metadata": {
      "tags": []
     },
     "output_type": "execute_result"
    }
   ],
   "source": [
    "len(list_of_genres)"
   ]
  },
  {
   "cell_type": "markdown",
   "metadata": {
    "colab_type": "text",
    "id": "egO1vjCm3gzj"
   },
   "source": [
    "modify the genre list due to some errors of the website"
   ]
  },
  {
   "cell_type": "code",
   "execution_count": 0,
   "metadata": {
    "colab": {},
    "colab_type": "code",
    "id": "U3cUQiQxR2p3"
   },
   "outputs": [],
   "source": [
    "# Create a tmdb genre object!\n",
    "genres=tmdb.Genres()\n",
    "# the list() method of the Genres() class returns a listing of all genres in the form of a dictionary.\n",
    "list_of_genres=genres.tv_list()['genres']\n",
    "Genre_ID_to_name={}\n",
    "for i in range(len(list_of_genres)):\n",
    "    genre_id=list_of_genres[i]['id']\n",
    "    genre_name=list_of_genres[i]['name']\n",
    "    Genre_ID_to_name[genre_id]=genre_name"
   ]
  },
  {
   "cell_type": "code",
   "execution_count": 0,
   "metadata": {
    "colab": {
     "base_uri": "https://localhost:8080/",
     "height": 210
    },
    "colab_type": "code",
    "id": "NvR9C4JeSAYy",
    "outputId": "1b1be080-4899-48ef-8ef8-da932073de90"
   },
   "outputs": [
    {
     "name": "stdout",
     "output_type": "stream",
     "text": [
      "10752\n",
      "12\n",
      "14\n",
      "22\n",
      "27\n",
      "28\n",
      "10402\n",
      "36\n",
      "53\n",
      "878\n",
      "10749\n"
     ]
    }
   ],
   "source": [
    "for i in set(all_ids):\n",
    "    if i not in Genre_ID_to_name.keys():\n",
    "        print( i)"
   ]
  },
  {
   "cell_type": "code",
   "execution_count": 0,
   "metadata": {
    "colab": {},
    "colab_type": "code",
    "id": "IhLV7e33TnEK"
   },
   "outputs": [],
   "source": [
    "#comment some unnecessary adding if needed\n",
    "Genre_ID_to_name[10749]=\"Romance\"\n",
    "Genre_ID_to_name[878]=\"Science Fiction\"\n",
    "Genre_ID_to_name[10402]=\"Music\"\n",
    "Genre_ID_to_name[28]=\"Action\"\n",
    "Genre_ID_to_name[27]=\"Horror\"\n",
    "Genre_ID_to_name[14]=\"Fantasy\"\n",
    "Genre_ID_to_name[12]=\"Adventure\"\n",
    "Genre_ID_to_name[10752 ]=\"War\"\n",
    "#Genre_ID_to_name[10040 ]==\"TV MOVIE\"\n",
    "Genre_ID_to_name[22]=\"NULL\"\n",
    "Genre_ID_to_name[36]=\"History\"\n",
    "Genre_ID_to_name[53]=\"Thriller\""
   ]
  },
  {
   "cell_type": "code",
   "execution_count": 0,
   "metadata": {
    "colab": {
     "base_uri": "https://localhost:8080/",
     "height": 34
    },
    "colab_type": "code",
    "id": "UX_QjG_7Uduj",
    "outputId": "b16dd14e-ee4a-49b6-d54b-2c92628e185e"
   },
   "outputs": [
    {
     "data": {
      "text/plain": [
       "27"
      ]
     },
     "execution_count": 28,
     "metadata": {
      "tags": []
     },
     "output_type": "execute_result"
    }
   ],
   "source": [
    "len(Genre_ID_to_name.keys())"
   ]
  },
  {
   "cell_type": "code",
   "execution_count": 0,
   "metadata": {
    "colab": {
     "base_uri": "https://localhost:8080/",
     "height": 107
    },
    "colab_type": "code",
    "id": "RdZxGaAvUgHR",
    "outputId": "c690eb6d-67b6-437f-b1cd-739436b66e6f"
   },
   "outputs": [
    {
     "name": "stdout",
     "output_type": "stream",
     "text": [
      "The overview for the tv shows Family Guy  is - \n",
      "\n",
      "\n",
      "Sick, twisted, politically incorrect and Freakin' Sweet animated series featuring the adventures of the dysfunctional Griffin family. Bumbling Peter and long-suffering Lois have three kids. Stewie (a brilliant but sadistic baby bent on killing his mother and taking over the world), Meg (the oldest, and is the most unpopular girl in town) and Chris (the middle kid, he's not very bright but has a passion for movies). The final member of the family is Brian - a talking dog and much more than a pet, he keeps Stewie in check whilst sipping Martinis and sorting through his own life issues.\n"
     ]
    }
   ],
   "source": [
    "sample_tvshow=tvshows_with_overviews[5]\n",
    "sample_overview=sample_tvshow['overview']\n",
    "sample_title=sample_tvshow['original_name']\n",
    "print (\"The overview for the tv shows\",sample_title,\" is - \\n\\n\")\n",
    "print (sample_overview)"
   ]
  },
  {
   "cell_type": "code",
   "execution_count": 0,
   "metadata": {
    "colab": {},
    "colab_type": "code",
    "id": "kBjhYG0pUvyJ"
   },
   "outputs": [],
   "source": [
    "from sklearn.feature_extraction.text import CountVectorizer\n",
    "import re"
   ]
  },
  {
   "cell_type": "markdown",
   "metadata": {
    "colab_type": "text",
    "id": "DUb8eaQM4Aqy"
   },
   "source": [
    "**TEST**"
   ]
  },
  {
   "cell_type": "code",
   "execution_count": 0,
   "metadata": {
    "colab": {},
    "colab_type": "code",
    "id": "Aa8mRWVeU0YY"
   },
   "outputs": [],
   "source": [
    "content=[]\n",
    "for i in range(len(tvshows_with_overviews)):\n",
    "    tvshow=tvshows_with_overviews[i]\n",
    "    id=tvshow['id']\n",
    "    overview=tvshow['overview']\n",
    "    overview=overview.replace(',','')\n",
    "    overview=overview.replace('.','')\n",
    "    content.append(overview)"
   ]
  },
  {
   "cell_type": "code",
   "execution_count": 0,
   "metadata": {
    "colab": {
     "base_uri": "https://localhost:8080/",
     "height": 72
    },
    "colab_type": "code",
    "id": "1hwvY3QcU-sX",
    "outputId": "88c2828e-b44d-4c39-c698-116082725df8"
   },
   "outputs": [
    {
     "name": "stdout",
     "output_type": "stream",
     "text": [
      "Saitama is a hero who only became a hero for fun After three years of “special” training though he’s become so strong that he’s practically invincible In fact he’s too strong—even his mightiest opponents are taken out with a single punch and it turns out that being devastatingly powerful is actually kind of a bore With his passion for being a hero lost along with his hair yet still faced with new enemies every day how much longer can he keep it going?\n",
      "9789\n"
     ]
    }
   ],
   "source": [
    "print (content[0])\n",
    "print (len(content))"
   ]
  },
  {
   "cell_type": "code",
   "execution_count": 0,
   "metadata": {
    "colab": {
     "base_uri": "https://localhost:8080/",
     "height": 54
    },
    "colab_type": "code",
    "id": "5tSQnUcjVHzi",
    "outputId": "a1be2f0d-5bbb-4fa1-f18c-c985b79ab723"
   },
   "outputs": [
    {
     "data": {
      "text/plain": [
       "\"Seven noble families fight for control of the mythical land of Westeros. Friction between the houses leads to full-scale war. All while a very ancient evil awakens in the farthest north. Amidst the war, a neglected military order of misfits, the Night's Watch, is all that stands between the realms of men and icy horrors beyond.\""
      ]
     },
     "execution_count": 135,
     "metadata": {
      "tags": []
     },
     "output_type": "execute_result"
    }
   ],
   "source": [
    "get_tvshow_info_tmdb('Game of Thrones')['overview']"
   ]
  },
  {
   "cell_type": "markdown",
   "metadata": {
    "colab_type": "text",
    "id": "03p9NXfC4Dn-"
   },
   "source": [
    "use the model of TF-IDF to remove some words"
   ]
  },
  {
   "cell_type": "code",
   "execution_count": 0,
   "metadata": {
    "colab": {},
    "colab_type": "code",
    "id": "WYDoRM9YVbne"
   },
   "outputs": [],
   "source": [
    "# The min_df paramter makes sure we exclude words that only occur very rarely\n",
    "# The default also is to exclude any words that occur in every tvshows description\n",
    "vectorize=CountVectorizer(max_df=0.97, min_df=0.003)\n",
    "X=vectorize.fit_transform(content)"
   ]
  },
  {
   "cell_type": "code",
   "execution_count": 0,
   "metadata": {
    "colab": {
     "base_uri": "https://localhost:8080/",
     "height": 34
    },
    "colab_type": "code",
    "id": "Xap5JOD6VhjB",
    "outputId": "6202c265-4452-4808-eee4-94575a9215c5"
   },
   "outputs": [
    {
     "data": {
      "text/plain": [
       "(9802, 2259)"
      ]
     },
     "execution_count": 34,
     "metadata": {
      "tags": []
     },
     "output_type": "execute_result"
    }
   ],
   "source": [
    "X.shape"
   ]
  },
  {
   "cell_type": "markdown",
   "metadata": {
    "colab_type": "text",
    "id": "N4qTmF084McZ"
   },
   "source": [
    "save the overview dataset"
   ]
  },
  {
   "cell_type": "code",
   "execution_count": 0,
   "metadata": {
    "colab": {},
    "colab_type": "code",
    "id": "FIQRFnlzVp6d"
   },
   "outputs": [],
   "source": [
    "import pickle\n",
    "f4=open('X.pckl','wb')\n",
    "f5=open('Y.pckl','wb')\n",
    "pickle.dump(X,f4)\n",
    "pickle.dump(Y,f5)\n",
    "f6=open('Genredict.pckl','wb')\n",
    "pickle.dump(Genre_ID_to_name,f6)\n",
    "f4.close()\n",
    "f5.close()\n",
    "f6.close()"
   ]
  },
  {
   "cell_type": "markdown",
   "metadata": {
    "colab_type": "text",
    "id": "CMzqFTTTtp26"
   },
   "source": [
    "# Classify the training dataset and testing dataset by TF-IDF model"
   ]
  },
  {
   "cell_type": "code",
   "execution_count": 0,
   "metadata": {
    "colab": {},
    "colab_type": "code",
    "id": "WKTiCh_cVwd0"
   },
   "outputs": [],
   "source": [
    "from sklearn.feature_extraction.text import TfidfTransformer"
   ]
  },
  {
   "cell_type": "code",
   "execution_count": 0,
   "metadata": {
    "colab": {
     "base_uri": "https://localhost:8080/",
     "height": 34
    },
    "colab_type": "code",
    "id": "gFsDg93xVy8D",
    "outputId": "ca7bd6ae-830b-488e-9c73-58b496238bf0"
   },
   "outputs": [
    {
     "data": {
      "text/plain": [
       "(9802, 2259)"
      ]
     },
     "execution_count": 37,
     "metadata": {
      "tags": []
     },
     "output_type": "execute_result"
    }
   ],
   "source": [
    "tfidf_transformer = TfidfTransformer()\n",
    "X_tfidf = tfidf_transformer.fit_transform(X)\n",
    "X_tfidf.shape"
   ]
  },
  {
   "cell_type": "code",
   "execution_count": 0,
   "metadata": {
    "colab": {},
    "colab_type": "code",
    "id": "sK0dJPiNV1L9"
   },
   "outputs": [],
   "source": [
    "msk = np.random.rand(X_tfidf.shape[0]) < 0.7"
   ]
  },
  {
   "cell_type": "code",
   "execution_count": 0,
   "metadata": {
    "colab": {},
    "colab_type": "code",
    "id": "26oJJB04V4G_"
   },
   "outputs": [],
   "source": [
    "X_train_tfidf=X_tfidf[msk]\n",
    "X_test_tfidf=X_tfidf[~msk]\n",
    "Y_train=Y[msk]\n",
    "Y_test=Y[~msk]\n",
    "positions=range(len(tvshows_with_overviews))\n",
    "# print positions\n",
    "test_tvshows=np.asarray(positions)[~msk]\n",
    "# test_tvshows"
   ]
  },
  {
   "cell_type": "markdown",
   "metadata": {
    "colab_type": "text",
    "id": "l5ha7lsUtyGu"
   },
   "source": [
    "# SVM model used in overview dataset"
   ]
  },
  {
   "cell_type": "code",
   "execution_count": 0,
   "metadata": {
    "colab": {},
    "colab_type": "code",
    "id": "jBH-0Iw-Wifu"
   },
   "outputs": [],
   "source": [
    "from sklearn.multiclass import OneVsRestClassifier\n",
    "from sklearn.svm import SVC\n",
    "from sklearn.svm import LinearSVC\n",
    "from sklearn.pipeline import Pipeline\n",
    "from sklearn.model_selection import GridSearchCV\n",
    "from sklearn.metrics import f1_score\n",
    "from sklearn.metrics import make_scorer\n",
    "from sklearn.metrics import classification_report\n",
    "from sklearn.feature_extraction.text import TfidfVectorizer\n",
    "from sklearn.naive_bayes import MultinomialNB"
   ]
  },
  {
   "cell_type": "markdown",
   "metadata": {
    "colab_type": "text",
    "id": "nzx45nH0wAUg"
   },
   "source": [
    "define the grid search function"
   ]
  },
  {
   "cell_type": "code",
   "execution_count": 0,
   "metadata": {
    "colab": {},
    "colab_type": "code",
    "id": "S7Z_U6b9Wr10"
   },
   "outputs": [],
   "source": [
    "genre_names=[]\n",
    "for i,v in Genre_ID_to_name.items():\n",
    "    genre_names.append(v)\n",
    "#print( genre_names)"
   ]
  },
  {
   "cell_type": "code",
   "execution_count": 0,
   "metadata": {
    "colab": {},
    "colab_type": "code",
    "id": "pmPgzOTfv91Y"
   },
   "outputs": [],
   "source": [
    "def grid_search(train_x, train_y, test_x, test_y, genre_names, parameters, pipeline):\n",
    "    grid_search_tune = GridSearchCV(pipeline, parameters, cv=2, n_jobs=3, verbose=10)\n",
    "    grid_search_tune.fit(train_x, train_y)\n",
    "\n",
    "    print\n",
    "    print(\"Best parameters set:\")\n",
    "    print (grid_search_tune.best_estimator_.steps)\n",
    "    print\n",
    "\n",
    "    # measuring performance on test set\n",
    "    print (\"Applying best classifier on test data:\")\n",
    "    best_clf = grid_search_tune.best_estimator_\n",
    "    predictions = best_clf.predict(test_x)\n",
    "\n",
    "    print (classification_report(test_y, predictions, target_names=genre_names))"
   ]
  },
  {
   "cell_type": "markdown",
   "metadata": {
    "colab_type": "text",
    "id": "CgGR2Hl444vS"
   },
   "source": [
    "define the parameter for the one-vs-rest SVM algorithm"
   ]
  },
  {
   "cell_type": "code",
   "execution_count": 0,
   "metadata": {
    "colab": {
     "base_uri": "https://localhost:8080/",
     "height": 1210
    },
    "colab_type": "code",
    "id": "6KLxGXjIxhdJ",
    "outputId": "cf265db6-93f0-4d0f-a61d-babf6c2f1cd1"
   },
   "outputs": [
    {
     "name": "stdout",
     "output_type": "stream",
     "text": [
      "Fitting 2 folds for each of 12 candidates, totalling 24 fits\n"
     ]
    },
    {
     "name": "stderr",
     "output_type": "stream",
     "text": [
      "[Parallel(n_jobs=3)]: Using backend LokyBackend with 3 concurrent workers.\n",
      "[Parallel(n_jobs=3)]: Done   2 tasks      | elapsed:    1.1s\n",
      "[Parallel(n_jobs=3)]: Done   7 tasks      | elapsed:    2.7s\n",
      "[Parallel(n_jobs=3)]: Done  12 tasks      | elapsed:    5.6s\n",
      "[Parallel(n_jobs=3)]: Done  19 tasks      | elapsed:    9.8s\n",
      "[Parallel(n_jobs=3)]: Done  22 out of  24 | elapsed:   11.9s remaining:    1.1s\n",
      "[Parallel(n_jobs=3)]: Done  24 out of  24 | elapsed:   12.5s finished\n"
     ]
    },
    {
     "name": "stdout",
     "output_type": "stream",
     "text": [
      "Best parameters set:\n",
      "[('clf', OneVsRestClassifier(estimator=LinearSVC(C=1.2, class_weight=None, dual=True, fit_intercept=True,\n",
      "     intercept_scaling=1, loss='squared_hinge', max_iter=1000,\n",
      "     multi_class='ovr', penalty='l2', random_state=None, tol=0.0001,\n",
      "     verbose=0),\n",
      "          n_jobs=3))]\n",
      "Applying best classifier on test data:\n",
      "                    precision    recall  f1-score   support\n",
      "\n",
      "Action & Adventure       0.00      0.00      0.00         6\n",
      "         Animation       0.00      0.00      0.00         8\n",
      "            Comedy       0.77      0.73      0.75       344\n",
      "             Crime       0.66      0.56      0.61       687\n",
      "       Documentary       0.00      0.00      0.00         1\n",
      "             Drama       0.00      0.00      0.00         1\n",
      "            Family       0.00      0.00      0.00         6\n",
      "              Kids       0.58      0.49      0.53       442\n",
      "           Mystery       0.00      0.00      0.00         0\n",
      "              News       0.82      0.49      0.61        55\n",
      "           Reality       0.00      0.00      0.00         1\n",
      "  Sci-Fi & Fantasy       0.62      0.43      0.51       214\n",
      "              Soap       0.69      0.55      0.61       224\n",
      "              Talk       0.00      0.00      0.00         4\n",
      "    War & Politics       0.47      0.19      0.27       211\n",
      "           Western       0.00      0.00      0.00         4\n",
      "           Romance       0.00      0.00      0.00         6\n",
      "   Science Fiction       0.44      0.24      0.31       204\n",
      "             Music       0.00      0.00      0.00         0\n",
      "            Action       0.48      0.35      0.41       269\n",
      "            Horror       0.58      0.22      0.32       119\n",
      "           Fantasy       0.91      0.82      0.86       175\n",
      "         Adventure       0.63      0.49      0.55       221\n",
      "               War       0.51      0.38      0.44       260\n",
      "              NULL       0.65      0.35      0.45        81\n",
      "           History       0.69      0.38      0.49       101\n",
      "          Thriller       0.67      0.22      0.33        72\n",
      "\n",
      "         micro avg       0.64      0.47      0.54      3716\n",
      "         macro avg       0.38      0.25      0.30      3716\n",
      "      weighted avg       0.62      0.47      0.53      3716\n",
      "       samples avg       0.57      0.50      0.51      3716\n",
      "\n"
     ]
    },
    {
     "name": "stderr",
     "output_type": "stream",
     "text": [
      "/usr/local/lib/python3.6/dist-packages/sklearn/metrics/classification.py:1143: UndefinedMetricWarning: Precision and F-score are ill-defined and being set to 0.0 in labels with no predicted samples.\n",
      "  'precision', 'predicted', average, warn_for)\n",
      "/usr/local/lib/python3.6/dist-packages/sklearn/metrics/classification.py:1145: UndefinedMetricWarning: Recall and F-score are ill-defined and being set to 0.0 in labels with no true samples.\n",
      "  'recall', 'true', average, warn_for)\n",
      "/usr/local/lib/python3.6/dist-packages/sklearn/metrics/classification.py:1143: UndefinedMetricWarning: Precision and F-score are ill-defined and being set to 0.0 in labels with no predicted samples.\n",
      "  'precision', 'predicted', average, warn_for)\n",
      "/usr/local/lib/python3.6/dist-packages/sklearn/metrics/classification.py:1145: UndefinedMetricWarning: Recall and F-score are ill-defined and being set to 0.0 in labels with no true samples.\n",
      "  'recall', 'true', average, warn_for)\n",
      "/usr/local/lib/python3.6/dist-packages/sklearn/metrics/classification.py:1143: UndefinedMetricWarning: Precision and F-score are ill-defined and being set to 0.0 in labels with no predicted samples.\n",
      "  'precision', 'predicted', average, warn_for)\n",
      "/usr/local/lib/python3.6/dist-packages/sklearn/metrics/classification.py:1145: UndefinedMetricWarning: Recall and F-score are ill-defined and being set to 0.0 in labels with no true samples.\n",
      "  'recall', 'true', average, warn_for)\n",
      "/usr/local/lib/python3.6/dist-packages/sklearn/metrics/classification.py:1143: UndefinedMetricWarning: Precision and F-score are ill-defined and being set to 0.0 in samples with no predicted labels.\n",
      "  'precision', 'predicted', average, warn_for)\n",
      "/usr/local/lib/python3.6/dist-packages/sklearn/metrics/classification.py:1145: UndefinedMetricWarning: Recall and F-score are ill-defined and being set to 0.0 in samples with no true labels.\n",
      "  'recall', 'true', average, warn_for)\n"
     ]
    }
   ],
   "source": [
    "# LinearSVC\n",
    "pipeline = Pipeline([  \n",
    "    ('clf', OneVsRestClassifier(LinearSVC(), n_jobs=3)),\n",
    "    ])\n",
    "parameters = {\n",
    "    \"clf__estimator__C\":[0.01, 0.1, 1, 1.1,1.2,1.3],\n",
    "    \"clf__estimator__class_weight\": ['balanced', None],\n",
    "}\n",
    "grid_search(X_train_tfidf, Y_train, X_test_tfidf, Y_test, genre_names, parameters, pipeline)"
   ]
  },
  {
   "cell_type": "markdown",
   "metadata": {
    "colab_type": "text",
    "id": "5Tgxn5ih9mjy"
   },
   "source": [
    "the One-vs-one SVM algorithm"
   ]
  },
  {
   "cell_type": "code",
   "execution_count": 0,
   "metadata": {
    "colab": {},
    "colab_type": "code",
    "id": "Kr-bmIYu9acX"
   },
   "outputs": [],
   "source": [
    "estim1 = OneVsRestClassifier(SVC(kernel='linear', decision_function_shape='ovo'))\n",
    "estim1.fit(X_train_tfidf, Y_train)"
   ]
  },
  {
   "cell_type": "code",
   "execution_count": 0,
   "metadata": {
    "colab": {},
    "colab_type": "code",
    "id": "GF1sK9cM9hsJ"
   },
   "outputs": [],
   "source": [
    "predsest=estim1.predict(X_test_tfidf)\n",
    "print (classification_report(Y_test, predsest, target_names=genre_names))"
   ]
  },
  {
   "cell_type": "markdown",
   "metadata": {
    "colab_type": "text",
    "id": "jdHmYUEp6WE3"
   },
   "source": [
    "# Naive Bayesian model used in overview data"
   ]
  },
  {
   "cell_type": "code",
   "execution_count": 0,
   "metadata": {
    "colab": {
     "base_uri": "https://localhost:8080/",
     "height": 1175
    },
    "colab_type": "code",
    "id": "Xz0l8Ks_C53s",
    "outputId": "c1cdf40e-e33f-4a27-8ef5-f7219110649a"
   },
   "outputs": [
    {
     "name": "stdout",
     "output_type": "stream",
     "text": [
      "Fitting 2 folds for each of 3 candidates, totalling 6 fits\n"
     ]
    },
    {
     "name": "stderr",
     "output_type": "stream",
     "text": [
      "[Parallel(n_jobs=3)]: Using backend LokyBackend with 3 concurrent workers.\n",
      "[Parallel(n_jobs=3)]: Done   2 out of   6 | elapsed:    0.5s remaining:    1.0s\n",
      "[Parallel(n_jobs=3)]: Done   3 out of   6 | elapsed:    0.5s remaining:    0.5s\n",
      "[Parallel(n_jobs=3)]: Done   4 out of   6 | elapsed:    0.9s remaining:    0.4s\n",
      "[Parallel(n_jobs=3)]: Done   6 out of   6 | elapsed:    0.9s finished\n",
      "[Parallel(n_jobs=3)]: Done   6 out of   6 | elapsed:    0.9s remaining:    0.0s\n",
      "/usr/local/lib/python3.6/dist-packages/sklearn/multiclass.py:76: UserWarning: Label not 4 is present in all training examples.\n",
      "  str(classes[c]))\n"
     ]
    },
    {
     "name": "stdout",
     "output_type": "stream",
     "text": [
      "Best parameters set:\n",
      "[('clf', OneVsRestClassifier(estimator=MultinomialNB(alpha=0.01, class_prior=None, fit_prior=True),\n",
      "          n_jobs=None))]\n",
      "Applying best classifier on test data:\n",
      "                    precision    recall  f1-score   support\n",
      "\n",
      "Action & Adventure       0.00      0.00      0.00         6\n",
      "         Animation       0.00      0.00      0.00         8\n",
      "            Comedy       0.89      0.50      0.64       344\n",
      "             Crime       0.68      0.52      0.59       687\n",
      "       Documentary       0.00      0.00      0.00         1\n",
      "             Drama       0.00      0.00      0.00         1\n",
      "            Family       0.00      0.00      0.00         6\n",
      "              Kids       0.71      0.20      0.31       442\n",
      "           Mystery       0.00      0.00      0.00         0\n",
      "              News       0.90      0.33      0.48        55\n",
      "           Reality       0.00      0.00      0.00         1\n",
      "  Sci-Fi & Fantasy       0.69      0.27      0.38       214\n",
      "              Soap       0.92      0.30      0.46       224\n",
      "              Talk       0.00      0.00      0.00         4\n",
      "    War & Politics       0.59      0.08      0.13       211\n",
      "           Western       0.00      0.00      0.00         4\n",
      "           Romance       0.00      0.00      0.00         6\n",
      "   Science Fiction       0.50      0.03      0.06       204\n",
      "             Music       0.00      0.00      0.00         0\n",
      "            Action       0.64      0.17      0.27       269\n",
      "            Horror       0.00      0.00      0.00       119\n",
      "           Fantasy       0.89      0.76      0.82       175\n",
      "         Adventure       0.83      0.29      0.42       221\n",
      "               War       0.63      0.17      0.26       260\n",
      "              NULL       0.70      0.09      0.15        81\n",
      "           History       0.79      0.11      0.19       101\n",
      "          Thriller       1.00      0.03      0.05        72\n",
      "\n",
      "         micro avg       0.75      0.29      0.42      3716\n",
      "         macro avg       0.42      0.14      0.19      3716\n",
      "      weighted avg       0.70      0.29      0.38      3716\n",
      "       samples avg       0.42      0.32      0.34      3716\n",
      "\n"
     ]
    },
    {
     "name": "stderr",
     "output_type": "stream",
     "text": [
      "/usr/local/lib/python3.6/dist-packages/sklearn/metrics/classification.py:1143: UndefinedMetricWarning: Precision and F-score are ill-defined and being set to 0.0 in labels with no predicted samples.\n",
      "  'precision', 'predicted', average, warn_for)\n",
      "/usr/local/lib/python3.6/dist-packages/sklearn/metrics/classification.py:1145: UndefinedMetricWarning: Recall and F-score are ill-defined and being set to 0.0 in labels with no true samples.\n",
      "  'recall', 'true', average, warn_for)\n",
      "/usr/local/lib/python3.6/dist-packages/sklearn/metrics/classification.py:1143: UndefinedMetricWarning: Precision and F-score are ill-defined and being set to 0.0 in labels with no predicted samples.\n",
      "  'precision', 'predicted', average, warn_for)\n",
      "/usr/local/lib/python3.6/dist-packages/sklearn/metrics/classification.py:1145: UndefinedMetricWarning: Recall and F-score are ill-defined and being set to 0.0 in labels with no true samples.\n",
      "  'recall', 'true', average, warn_for)\n",
      "/usr/local/lib/python3.6/dist-packages/sklearn/metrics/classification.py:1143: UndefinedMetricWarning: Precision and F-score are ill-defined and being set to 0.0 in labels with no predicted samples.\n",
      "  'precision', 'predicted', average, warn_for)\n",
      "/usr/local/lib/python3.6/dist-packages/sklearn/metrics/classification.py:1145: UndefinedMetricWarning: Recall and F-score are ill-defined and being set to 0.0 in labels with no true samples.\n",
      "  'recall', 'true', average, warn_for)\n",
      "/usr/local/lib/python3.6/dist-packages/sklearn/metrics/classification.py:1143: UndefinedMetricWarning: Precision and F-score are ill-defined and being set to 0.0 in samples with no predicted labels.\n",
      "  'precision', 'predicted', average, warn_for)\n",
      "/usr/local/lib/python3.6/dist-packages/sklearn/metrics/classification.py:1145: UndefinedMetricWarning: Recall and F-score are ill-defined and being set to 0.0 in samples with no true labels.\n",
      "  'recall', 'true', average, warn_for)\n"
     ]
    }
   ],
   "source": [
    "pipeline = Pipeline([\n",
    "    ('clf', OneVsRestClassifier(MultinomialNB(\n",
    "    fit_prior=True, class_prior=None))),\n",
    "  ])\n",
    "parameters = {\n",
    "    'clf__estimator__alpha': (0.001,1e-2, 1e-3)\n",
    "  }\n",
    "grid_search(X_train_tfidf, Y_train, X_test_tfidf, Y_test, genre_names, parameters, pipeline)"
   ]
  },
  {
   "cell_type": "markdown",
   "metadata": {
    "colab_type": "text",
    "id": "slWmKAm3Ptxl"
   },
   "source": [
    "# prediction models in the same evaluation method"
   ]
  },
  {
   "cell_type": "code",
   "execution_count": 0,
   "metadata": {
    "colab": {},
    "colab_type": "code",
    "id": "4tRc_Mlz_a0w"
   },
   "outputs": [],
   "source": [
    "genre_list=sorted(list(Genre_ID_to_name.keys()))"
   ]
  },
  {
   "cell_type": "code",
   "execution_count": 0,
   "metadata": {
    "colab": {},
    "colab_type": "code",
    "id": "ZF1pPxDO_ojx"
   },
   "outputs": [],
   "source": [
    "def precision_recall(gt,preds):\n",
    "    TP=0\n",
    "    FP=0\n",
    "    FN=0\n",
    "    for t in gt:\n",
    "        if t in preds:\n",
    "            TP+=1\n",
    "        else:\n",
    "            FN+=1\n",
    "    for p in preds:\n",
    "        if p not in gt:\n",
    "            FP+=1\n",
    "    if TP+FP==0:\n",
    "        precision=0\n",
    "    else:\n",
    "        precision=TP/float(TP+FP)\n",
    "    if TP+FN==0:\n",
    "        recall=0\n",
    "    else:\n",
    "        recall=TP/float(TP+FN)\n",
    "    return precision,recall"
   ]
  },
  {
   "cell_type": "markdown",
   "metadata": {
    "colab_type": "text",
    "id": "ESJ6tvAQ-_au"
   },
   "source": [
    "ovo model"
   ]
  },
  {
   "cell_type": "code",
   "execution_count": 0,
   "metadata": {
    "colab": {},
    "colab_type": "code",
    "id": "we-fP4E87RR4"
   },
   "outputs": [],
   "source": [
    "precs=[]\n",
    "recs=[]\n",
    "for i in range(len(test_tvshows)):\n",
    "    if i%1==0:\n",
    "        pos=test_tvshows[i]\n",
    "        test_tvshow=tvshows_with_overviews[pos]\n",
    "        gtids=test_tvshow['genre_ids']\n",
    "        gt=[]\n",
    "        for g in gtids:\n",
    "            g_name=Genre_ID_to_name[g]\n",
    "            gt.append(g_name)\n",
    "#       print predictions[i],movies_with_overviews[i]['title'],gt\n",
    "        a,b=precision_recall(gt,predictions[i])\n",
    "        precs.append(a)\n",
    "        recs.append(b)\n",
    "\n",
    "print (np.mean(np.asarray(precs)),np.mean(np.asarray(recs)))"
   ]
  },
  {
   "cell_type": "markdown",
   "metadata": {
    "colab_type": "text",
    "id": "FC9aw-Zh7YT6"
   },
   "source": [
    "ovr model"
   ]
  },
  {
   "cell_type": "code",
   "execution_count": 0,
   "metadata": {
    "colab": {
     "base_uri": "https://localhost:8080/",
     "height": 34
    },
    "colab_type": "code",
    "id": "6mbZidlKLsx2",
    "outputId": "fec64863-b7ca-4f3c-ce87-a64d2d6dde8b"
   },
   "outputs": [
    {
     "name": "stdout",
     "output_type": "stream",
     "text": [
      "0.42166155244914194 0.32000795544948285\n"
     ]
    }
   ],
   "source": [
    "precs=[]\n",
    "recs=[]\n",
    "for i in range(len(test_tvshows)):\n",
    "    if i%1==0:\n",
    "        pos=test_tvshows[i]\n",
    "        test_tvshow=tvshows_with_overviews[pos]\n",
    "        gtids=test_tvshow['genre_ids']\n",
    "        gt=[]\n",
    "        for g in gtids:\n",
    "            g_name=Genre_ID_to_name[g]\n",
    "            gt.append(g_name)\n",
    "#         print predictions[i],movies_with_overviews[i]['title'],gt\n",
    "        a,b=precision_recall(gt,predictions[i])\n",
    "        precs.append(a)\n",
    "        recs.append(b)\n",
    "\n",
    "print (np.mean(np.asarray(precs)),np.mean(np.asarray(recs)))"
   ]
  },
  {
   "cell_type": "markdown",
   "metadata": {
    "colab_type": "text",
    "id": "x1s3ZaK17v9F"
   },
   "source": [
    "naive bayes model"
   ]
  },
  {
   "cell_type": "code",
   "execution_count": 0,
   "metadata": {
    "colab": {
     "base_uri": "https://localhost:8080/",
     "height": 34
    },
    "colab_type": "code",
    "id": "hQoiE2FV_1GH",
    "outputId": "0adfb532-99cf-4c1b-c760-5d46ca7deb22"
   },
   "outputs": [
    {
     "name": "stdout",
     "output_type": "stream",
     "text": [
      "0.46527975992261705 0.7044538794538794\n"
     ]
    }
   ],
   "source": [
    "precs=[]\n",
    "recs=[]\n",
    "for i in range(len(test_tvshows)):\n",
    "    if i%1==0:\n",
    "        pos=test_tvshows[i]\n",
    "        test_tvshow=tvshows_with_overviews[pos]\n",
    "        gtids=test_tvshow['genre_ids']\n",
    "        gt=[]\n",
    "        for g in gtids:\n",
    "            g_name=Genre_ID_to_name[g]\n",
    "            gt.append(g_name)\n",
    "#         print predictions[i],tvshows_with_overviews[i]['title'],gt\n",
    "        a,b=precision_recall(gt,predictionsnb[i])\n",
    "        precs.append(a)\n",
    "        recs.append(b)\n",
    "\n",
    "print (np.mean(np.asarray(precs)),np.mean(np.asarray(recs)))"
   ]
  },
  {
   "cell_type": "markdown",
   "metadata": {
    "colab_type": "text",
    "id": "2J9gh1HP8ijb"
   },
   "source": [
    "# Deep learning model in the poster dataset"
   ]
  },
  {
   "cell_type": "code",
   "execution_count": 0,
   "metadata": {
    "colab": {},
    "colab_type": "code",
    "id": "JYwViH1v8h7g"
   },
   "outputs": [],
   "source": [
    "# Loading the list of tvshows we had downloaded posters for eariler - \n",
    "f=open('poster_tvshows.pckl','rb')\n",
    "poster_tvshows=pickle.load(f)\n",
    "f.close()"
   ]
  },
  {
   "cell_type": "code",
   "execution_count": 0,
   "metadata": {
    "colab": {
     "base_uri": "https://localhost:8080/",
     "height": 142
    },
    "colab_type": "code",
    "id": "Xv_A62fO84ly",
    "outputId": "82e44753-4fa7-4542-b4ad-e5219d94bce1"
   },
   "outputs": [
    {
     "name": "stdout",
     "output_type": "stream",
     "text": [
      "WARNING:tensorflow:From /usr/local/lib/python3.6/dist-packages/tensorflow/python/framework/op_def_library.py:263: colocate_with (from tensorflow.python.framework.ops) is deprecated and will be removed in a future version.\n",
      "Instructions for updating:\n",
      "Colocations handled automatically by placer.\n"
     ]
    },
    {
     "name": "stderr",
     "output_type": "stream",
     "text": [
      "Using TensorFlow backend.\n"
     ]
    },
    {
     "name": "stdout",
     "output_type": "stream",
     "text": [
      "Downloading data from https://github.com/fchollet/deep-learning-models/releases/download/v0.1/vgg16_weights_tf_dim_ordering_tf_kernels_notop.h5\n",
      "58892288/58889256 [==============================] - 1s 0us/step\n"
     ]
    }
   ],
   "source": [
    "from keras.applications.vgg16 import VGG16\n",
    "from keras.preprocessing import image\n",
    "from keras.applications.vgg16 import preprocess_input\n",
    "import numpy as np\n",
    "import pickle\n",
    "model = VGG16(weights='imagenet', include_top=False)"
   ]
  },
  {
   "cell_type": "code",
   "execution_count": 0,
   "metadata": {
    "colab": {
     "base_uri": "https://localhost:8080/",
     "height": 1106
    },
    "colab_type": "code",
    "id": "CPYlpxuN9q8Z",
    "outputId": "a89b2b3c-945e-4a9d-bdae-c8a7355e68bb"
   },
   "outputs": [
    {
     "name": "stdout",
     "output_type": "stream",
     "text": [
      "Starting extracting VGG features for scraped images. This will take time, Please be patient...\n",
      "Total images =  8252\n",
      "Working on Image :  1\n",
      "Working on Image :  200\n",
      "Working on Image :  400\n",
      "Working on Image :  600\n",
      "Working on Image :  800\n",
      "Working on Image :  1000\n",
      "Working on Image :  1400\n",
      "Working on Image :  1600\n",
      "Working on Image :  1800\n",
      "Working on Image :  2000\n",
      "Working on Image :  2200\n",
      "Working on Image :  2400\n",
      "Working on Image :  2600\n",
      "Working on Image :  2800\n",
      "Working on Image :  3000\n",
      "Working on Image :  3200\n",
      "Working on Image :  3400\n",
      "Working on Image :  3600\n",
      "Working on Image :  3800\n",
      "Working on Image :  4000\n",
      "Working on Image :  4200\n",
      "Working on Image :  4400\n",
      "Working on Image :  4600\n",
      "Working on Image :  4800\n",
      "Working on Image :  5000\n",
      "Working on Image :  5400\n",
      "Working on Image :  5600\n",
      "Working on Image :  5800\n",
      "Working on Image :  6000\n",
      "Working on Image :  6200\n",
      "Working on Image :  6400\n",
      "Working on Image :  6600\n",
      "Working on Image :  6800\n",
      "Working on Image :  7000\n",
      "Working on Image :  7200\n",
      "Working on Image :  7400\n",
      "Working on Image :  7600\n",
      "Working on Image :  7800\n",
      "Working on Image :  8000\n",
      "Working on Image :  8200\n",
      "Working on Image :  8400\n",
      "Working on Image :  8600\n",
      "Working on Image :  8800\n",
      "Working on Image :  9000\n",
      "Working on Image :  9200\n",
      "Working on Image :  9400\n",
      "Working on Image :  9600\n",
      "Working on Image :  9800\n",
      "Working on Image :  10000\n",
      "Working on Image :  10200\n",
      "Working on Image :  10400\n",
      "Working on Image :  10600\n",
      "Working on Image :  10800\n",
      "Working on Image :  11000\n",
      "Working on Image :  11200\n",
      "Working on Image :  11400\n",
      "Working on Image :  11800\n",
      "Working on Image :  12000\n",
      "Working on Image :  12200\n",
      "Done with all features, please pickle for future use!\n"
     ]
    }
   ],
   "source": [
    "allnames=os.listdir(poster_folder)\n",
    "imnames=[j for j in allnames if j.endswith('.jpg')]\n",
    "feature_list=[]\n",
    "genre_list=[]\n",
    "file_order=[]\n",
    "print (\"Starting extracting VGG features for scraped images. This will take time, Please be patient...\")\n",
    "print (\"Total images = \",len(imnames))\n",
    "failed_files=[]\n",
    "succesful_files=[]\n",
    "i=0\n",
    "for tv in poster_tvshows:\n",
    "    i+=1\n",
    "    tv_name=tv['original_name']\n",
    "    tv_name1=tv_name.replace(':','/')\n",
    "    poster_name=tv_name.replace(' ','_')+'.jpg'\n",
    "    if poster_name in imnames:\n",
    "        img_path=poster_folder+poster_name\n",
    "        try:\n",
    "            img = image.load_img(img_path, target_size=(224, 224))\n",
    "            succesful_files.append(poster_name)\n",
    "            x = image.img_to_array(img)\n",
    "            x = np.expand_dims(x, axis=0)\n",
    "            x = preprocess_input(x)\n",
    "            features = model.predict(x)\n",
    "            file_order.append(img_path)\n",
    "            feature_list.append(features)\n",
    "            genre_list.append(tv['genre_ids'])\n",
    "            if np.max(np.asarray(feature_list))==0.0:\n",
    "                print('problematic',i)\n",
    "            if i%200==0 or i==1:\n",
    "                print (\"Working on Image : \",i)\n",
    "        except:\n",
    "            failed_files.append(poster_name)\n",
    "            continue\n",
    "        \n",
    "    else:\n",
    "        continue\n",
    "print (\"Done with all features, please pickle for future use!\")"
   ]
  },
  {
   "cell_type": "code",
   "execution_count": 0,
   "metadata": {
    "colab": {
     "base_uri": "https://localhost:8080/",
     "height": 52
    },
    "colab_type": "code",
    "id": "1JKgQqj39pkR",
    "outputId": "d0c84ec2-0bad-4ecb-cc10-8d1ec64ea7ef"
   },
   "outputs": [
    {
     "name": "stdout",
     "output_type": "stream",
     "text": [
      "11362\n",
      "11362\n"
     ]
    }
   ],
   "source": [
    "print(len(genre_list))\n",
    "print(len(feature_list))"
   ]
  },
  {
   "cell_type": "code",
   "execution_count": 0,
   "metadata": {
    "colab": {
     "base_uri": "https://localhost:8080/",
     "height": 34
    },
    "colab_type": "code",
    "id": "ADVgZExXALCR",
    "outputId": "5f34a15b-c8f4-4e3e-9ae3-8c772dac1ea1"
   },
   "outputs": [
    {
     "name": "stdout",
     "output_type": "stream",
     "text": [
      "Features dumped to pickle file\n"
     ]
    }
   ],
   "source": [
    "# Reading from pickle below, this code is not to be run.\n",
    "list_pickled=(feature_list,file_order,failed_files,succesful_files,genre_list)\n",
    "f=open('posters_new_features.pckl','wb')\n",
    "pickle.dump(list_pickled,f)\n",
    "f.close()\n",
    "print(\"Features dumped to pickle file\")"
   ]
  },
  {
   "cell_type": "code",
   "execution_count": 0,
   "metadata": {
    "colab": {},
    "colab_type": "code",
    "id": "L8U0k5vTAOeT"
   },
   "outputs": [],
   "source": [
    "f7=open('posters_new_features.pckl','rb')\n",
    "list_pickled=pickle.load(f7)\n",
    "f7.close()"
   ]
  },
  {
   "cell_type": "code",
   "execution_count": 0,
   "metadata": {
    "colab": {},
    "colab_type": "code",
    "id": "iqD_siPZARxL"
   },
   "outputs": [],
   "source": [
    "(feature_list,files,failed,succesful,genre_list)=list_pickled"
   ]
  },
  {
   "cell_type": "code",
   "execution_count": 0,
   "metadata": {
    "colab": {
     "base_uri": "https://localhost:8080/",
     "height": 34
    },
    "colab_type": "code",
    "id": "lHxQ7cMBAVG8",
    "outputId": "f594d286-9f5e-417f-a802-4275fafe83da"
   },
   "outputs": [
    {
     "name": "stdout",
     "output_type": "stream",
     "text": [
      "25088\n"
     ]
    }
   ],
   "source": [
    "(a,b,c,d)=feature_list[0].shape\n",
    "feature_size=a*b*c*d\n",
    "print(feature_size)"
   ]
  },
  {
   "cell_type": "code",
   "execution_count": 0,
   "metadata": {
    "colab": {},
    "colab_type": "code",
    "id": "Z39Y6mxYAYwN"
   },
   "outputs": [],
   "source": [
    "np_features=np.zeros((len(feature_list),feature_size))\n",
    "for i in range(len(feature_list)):\n",
    "    feat=feature_list[i]\n",
    "    reshaped_feat=feat.reshape(1,-1)\n",
    "    np_features[i]=reshaped_feat"
   ]
  },
  {
   "cell_type": "code",
   "execution_count": 0,
   "metadata": {
    "colab": {},
    "colab_type": "code",
    "id": "rvjVAbe3Ahk_"
   },
   "outputs": [],
   "source": [
    "X=np_features\n",
    "from sklearn.preprocessing import MultiLabelBinarizer\n",
    "mlb=MultiLabelBinarizer()\n",
    "Y=mlb.fit_transform(genre_list)"
   ]
  },
  {
   "cell_type": "code",
   "execution_count": 0,
   "metadata": {
    "colab": {
     "base_uri": "https://localhost:8080/",
     "height": 34
    },
    "colab_type": "code",
    "id": "aINIphn3AlpA",
    "outputId": "316c8c92-3f51-46a0-ee20-b2f844b58d32"
   },
   "outputs": [
    {
     "data": {
      "text/plain": [
       "(11362, 28)"
      ]
     },
     "execution_count": 191,
     "metadata": {
      "tags": []
     },
     "output_type": "execute_result"
    }
   ],
   "source": [
    "Y.shape"
   ]
  },
  {
   "cell_type": "code",
   "execution_count": 0,
   "metadata": {
    "colab": {},
    "colab_type": "code",
    "id": "NskjtirvAo3J"
   },
   "outputs": [],
   "source": [
    "visual_problem_data=(X,Y)\n",
    "f8=open('visual_problem_data_clean.pckl','wb')\n",
    "pickle.dump(visual_problem_data,f8)\n",
    "f8.close()"
   ]
  },
  {
   "cell_type": "code",
   "execution_count": 0,
   "metadata": {
    "colab": {},
    "colab_type": "code",
    "id": "ec98_L9XArrs"
   },
   "outputs": [],
   "source": [
    "f8=open('visual_problem_data_clean.pckl','rb')\n",
    "visual_features=pickle.load(f8)\n",
    "f8.close()"
   ]
  },
  {
   "cell_type": "code",
   "execution_count": 0,
   "metadata": {
    "colab": {},
    "colab_type": "code",
    "id": "0a1V56lQAuM-"
   },
   "outputs": [],
   "source": [
    "(X,Y)=visual_features"
   ]
  },
  {
   "cell_type": "code",
   "execution_count": 0,
   "metadata": {
    "colab": {
     "base_uri": "https://localhost:8080/",
     "height": 34
    },
    "colab_type": "code",
    "id": "lB9SkgwuAwNt",
    "outputId": "9316d9b8-36d1-4f79-94b2-7ccdeca00182"
   },
   "outputs": [
    {
     "data": {
      "text/plain": [
       "(11362, 25088)"
      ]
     },
     "execution_count": 195,
     "metadata": {
      "tags": []
     },
     "output_type": "execute_result"
    }
   ],
   "source": [
    "X.shape"
   ]
  },
  {
   "cell_type": "code",
   "execution_count": 0,
   "metadata": {
    "colab": {
     "base_uri": "https://localhost:8080/",
     "height": 34
    },
    "colab_type": "code",
    "id": "vmWcry_hAyiK",
    "outputId": "15991d5b-890d-40d4-8bdc-34ec58b71cab"
   },
   "outputs": [
    {
     "data": {
      "text/plain": [
       "(2296, 25088)"
      ]
     },
     "execution_count": 196,
     "metadata": {
      "tags": []
     },
     "output_type": "execute_result"
    }
   ],
   "source": [
    "mask = np.random.rand(len(X)) < 0.8\n",
    "X_train=X[mask]\n",
    "X_test=X[~mask]\n",
    "Y_train=Y[mask]\n",
    "Y_test=Y[~mask]\n",
    "X_test.shape"
   ]
  },
  {
   "cell_type": "code",
   "execution_count": 0,
   "metadata": {
    "colab": {},
    "colab_type": "code",
    "id": "kXpxvojnA5bt"
   },
   "outputs": [],
   "source": [
    "from keras.models import Sequential\n",
    "from keras.layers import Dense, Activation\n",
    "from keras import optimizers\n",
    "model_visual = Sequential([\n",
    "    Dense(1024, input_shape=(25088,)),\n",
    "    Activation('relu'),\n",
    "    Dense(256),\n",
    "    Activation('relu'),\n",
    "    Dense(28),\n",
    "    Activation('sigmoid'),\n",
    "])\n",
    "opt = optimizers.rmsprop(lr=0.0001, decay=1e-6)\n",
    "\n",
    "model_visual.compile(optimizer=opt,\n",
    "              loss='binary_crossentropy',\n",
    "              metrics=['accuracy'])"
   ]
  },
  {
   "cell_type": "code",
   "execution_count": 0,
   "metadata": {
    "colab": {
     "base_uri": "https://localhost:8080/",
     "height": 459
    },
    "colab_type": "code",
    "id": "OvPennO-A_ez",
    "outputId": "42512b61-ee2d-4bb1-d6a1-331ad2c950e4"
   },
   "outputs": [
    {
     "name": "stdout",
     "output_type": "stream",
     "text": [
      "WARNING:tensorflow:From /usr/local/lib/python3.6/dist-packages/tensorflow/python/ops/math_ops.py:3066: to_int32 (from tensorflow.python.ops.math_ops) is deprecated and will be removed in a future version.\n",
      "Instructions for updating:\n",
      "Use tf.cast instead.\n",
      "Epoch 1/10\n",
      "9066/9066 [==============================] - 5s 597us/step - loss: 0.5045 - acc: 0.9149\n",
      "Epoch 2/10\n",
      "9066/9066 [==============================] - 3s 381us/step - loss: 0.1106 - acc: 0.9651\n",
      "Epoch 3/10\n",
      "9066/9066 [==============================] - 3s 385us/step - loss: 0.0439 - acc: 0.9871\n",
      "Epoch 4/10\n",
      "9066/9066 [==============================] - 4s 391us/step - loss: 0.0287 - acc: 0.9929\n",
      "Epoch 5/10\n",
      "9066/9066 [==============================] - 4s 387us/step - loss: 0.0231 - acc: 0.9954\n",
      "Epoch 6/10\n",
      "9066/9066 [==============================] - 3s 376us/step - loss: 0.0199 - acc: 0.9966\n",
      "Epoch 7/10\n",
      "9066/9066 [==============================] - 3s 376us/step - loss: 0.0190 - acc: 0.9970\n",
      "Epoch 8/10\n",
      "9066/9066 [==============================] - 3s 375us/step - loss: 0.0187 - acc: 0.9974\n",
      "Epoch 9/10\n",
      "9066/9066 [==============================] - 3s 376us/step - loss: 0.0191 - acc: 0.9975\n",
      "Epoch 10/10\n",
      "9066/9066 [==============================] - 3s 374us/step - loss: 0.0183 - acc: 0.9979\n"
     ]
    },
    {
     "data": {
      "text/plain": [
       "<keras.callbacks.History at 0x7ff1dde25588>"
      ]
     },
     "execution_count": 199,
     "metadata": {
      "tags": []
     },
     "output_type": "execute_result"
    }
   ],
   "source": [
    "model_visual.fit(X_train, Y_train, epochs=10, batch_size=64,verbose=1)"
   ]
  },
  {
   "cell_type": "code",
   "execution_count": 0,
   "metadata": {
    "colab": {
     "base_uri": "https://localhost:8080/",
     "height": 34
    },
    "colab_type": "code",
    "id": "T2DsoL5cBMrQ",
    "outputId": "34a678a1-c933-475a-91ea-f7247ed386e1"
   },
   "outputs": [
    {
     "data": {
      "text/plain": [
       "<keras.callbacks.History at 0x7ff1d46bc160>"
      ]
     },
     "execution_count": 200,
     "metadata": {
      "tags": []
     },
     "output_type": "execute_result"
    }
   ],
   "source": [
    "model_visual.fit(X_train, Y_train, epochs=50, batch_size=64,verbose=0)"
   ]
  },
  {
   "cell_type": "code",
   "execution_count": 0,
   "metadata": {
    "colab": {
     "base_uri": "https://localhost:8080/",
     "height": 34
    },
    "colab_type": "code",
    "id": "0CMrwqoUBP-4",
    "outputId": "edf8fc74-4139-4d75-fd53-d5bb59249e48"
   },
   "outputs": [
    {
     "data": {
      "text/plain": [
       "4302.858320653439"
      ]
     },
     "execution_count": 201,
     "metadata": {
      "tags": []
     },
     "output_type": "execute_result"
    }
   ],
   "source": [
    "Y_preds=model_visual.predict(X_test)\n",
    "sum(sum(Y_preds))"
   ]
  },
  {
   "cell_type": "code",
   "execution_count": 0,
   "metadata": {
    "colab": {},
    "colab_type": "code",
    "id": "OnxWX40vBQ9M"
   },
   "outputs": [],
   "source": [
    "f6=open('Genredict.pckl','rb')\n",
    "Genre_ID_to_name=pickle.load(f6)\n",
    "f6.close()"
   ]
  },
  {
   "cell_type": "code",
   "execution_count": 0,
   "metadata": {
    "colab": {
     "base_uri": "https://localhost:8080/",
     "height": 52
    },
    "colab_type": "code",
    "id": "uNYwP2evBXyH",
    "outputId": "0bba9daf-d863-4011-e31b-d2f17a88666d"
   },
   "outputs": [
    {
     "name": "stdout",
     "output_type": "stream",
     "text": [
      "3.0\n",
      "1.9999998807907104\n"
     ]
    }
   ],
   "source": [
    "print(sum(Y_preds[1]))\n",
    "print(sum(Y_preds[2]))"
   ]
  },
  {
   "cell_type": "code",
   "execution_count": 0,
   "metadata": {
    "colab": {},
    "colab_type": "code",
    "id": "-BEVT1bZBcPX"
   },
   "outputs": [],
   "source": [
    "genre_list=sorted(list(Genre_ID_to_name.keys()))"
   ]
  },
  {
   "cell_type": "code",
   "execution_count": 0,
   "metadata": {
    "colab": {
     "base_uri": "https://localhost:8080/",
     "height": 825
    },
    "colab_type": "code",
    "id": "L-bmqR0-Bjzf",
    "outputId": "97c65db5-3ece-4af1-fc82-fc4292929818"
   },
   "outputs": [
    {
     "name": "stdout",
     "output_type": "stream",
     "text": [
      "Predicted:  Kids,Animation,Soap  Actual:  Animation,Comedy,Kids\n",
      "Predicted:  Animation,Kids,Drama  Actual:  Animation,Drama,Kids\n",
      "Predicted:  Soap,Animation,Comedy  Actual:  Animation\n",
      "Predicted:  Kids,Comedy,Animation  Actual:  Animation\n",
      "Predicted:  Drama,Animation,Soap  Actual:  Animation,Drama,Kids\n",
      "Predicted:  Mystery,Drama,Soap  Actual:  Drama,Mystery\n",
      "Predicted:  TV Movie,Crime,Drama  Actual:  Drama,Crime\n",
      "Predicted:  Talk,Comedy,Drama  Actual:  Drama,Comedy\n",
      "Predicted:  Sci-Fi & Fantasy,Kids,Drama  Actual:  Drama\n",
      "Predicted:  Comedy,Drama,Animation  Actual:  Animation,Drama,Comedy\n",
      "Predicted:  Soap,Comedy,Animation  Actual:  Animation,Comedy\n",
      "Predicted:  Reality,War & Politics,Comedy  Actual:  Comedy\n",
      "Predicted:  Western,Kids,Drama  Actual:  Drama,Western\n",
      "Predicted:  Kids,Crime,Drama  Actual:  Drama,Crime,Kids\n",
      "Predicted:  Comedy,Crime,Drama  Actual:  Drama,Crime,Mystery\n",
      "Predicted:  Comedy,Soap,Drama  Actual:  Drama,Crime\n",
      "Predicted:  Sci-Fi & Fantasy,Crime,Documentary  Actual:  Crime,Documentary\n",
      "Predicted:  Sci-Fi & Fantasy,War,Drama  Actual:  Documentary\n",
      "Predicted:  Sci-Fi & Fantasy,Soap,Drama  Actual:  Documentary\n",
      "Predicted:  TV Movie,Documentary,Crime  Actual:  Crime,Documentary\n",
      "Predicted:  Drama,Kids,Animation  Actual:  Animation,Mystery\n",
      "Predicted:  Comedy,Animation,Mystery  Actual:  Animation,Comedy,Mystery\n",
      "Predicted:  War & Politics,TV Movie,Drama  Actual:  Drama,Mystery\n",
      "Predicted:  Mystery,Crime,Comedy  Actual:  Comedy,Crime,Mystery\n",
      "Predicted:  TV Movie,War,Comedy  Actual:  Comedy,War\n",
      "Predicted:  Comedy,War,Drama  Actual:  Drama,War\n",
      "Predicted:  Comedy,War,Animation  Actual:  Drama,War\n",
      "Predicted:  TV Movie,War,Drama  Actual:  Drama,Comedy,Family,War\n",
      "Predicted:  TV Movie,Kids,Animation  Actual:  Animation,Kids\n",
      "Predicted:  TV Movie,Kids,Animation  Actual:  Animation,Kids\n",
      "Predicted:  Kids,Animation,Soap  Actual:  Animation,Drama,Kids\n",
      "Predicted:  News,Soap,War  Actual:  Mystery,War,News\n",
      "Predicted:  Drama,Animation,War  Actual:  Comedy,News\n",
      "Predicted:  War & Politics,Sci-Fi & Fantasy,Comedy  Actual:  Animation,Documentary,News\n",
      "Predicted:  Mystery,Sci-Fi & Fantasy,Documentary  Actual:  Documentary,Mystery\n",
      "Predicted:  Documentary,TV Movie,Sci-Fi & Fantasy  Actual:  \n",
      "Predicted:  Sci-Fi & Fantasy,War,Drama  Actual:  \n",
      "Predicted:  Talk,Mystery,Drama  Actual:  \n",
      "Predicted:  Kids,Animation,Soap  Actual:  Animation,Drama,Kids\n",
      "Predicted:  Drama,Mystery,Soap  Actual:  Drama,Mystery\n",
      "Predicted:  Drama,Animation,Soap  Actual:  Animation,Drama,Comedy,Kids\n",
      "Predicted:  Kids,Sci-Fi & Fantasy,War  Actual:  Drama\n",
      "Predicted:  Drama,Soap,Comedy  Actual:  Drama\n",
      "Predicted:  TV Movie,War & Politics,Sci-Fi & Fantasy  Actual:  \n",
      "Predicted:  Comedy,Drama,Documentary  Actual:  \n",
      "Predicted:  TV Movie,War,Drama  Actual:  Drama,Kids\n"
     ]
    }
   ],
   "source": [
    "precs=[]\n",
    "recs=[]\n",
    "for i in range(len(Y_preds)):\n",
    "    row=Y_preds[i]\n",
    "    gt_genres=Y_test[i]\n",
    "    gt_genre_names=[]\n",
    "    for j in range(22):\n",
    "        if gt_genres[j]==1:\n",
    "            gt_genre_names.append(Genre_ID_to_name[genre_list[j]])\n",
    "    top_3=np.argsort(row)[-3:]\n",
    "    predicted_genres=[]\n",
    "    for genre in top_3:\n",
    "        predicted_genres.append(Genre_ID_to_name[genre_list[genre]])\n",
    "    (precision,recall)=precision_recall(gt_genre_names,predicted_genres)\n",
    "    precs.append(precision)\n",
    "    recs.append(recall)\n",
    "    if i%50==0:\n",
    "        print (\"Predicted: \",','.join(predicted_genres),\" Actual: \",','.join(gt_genre_names))"
   ]
  },
  {
   "cell_type": "code",
   "execution_count": 0,
   "metadata": {
    "colab": {
     "base_uri": "https://localhost:8080/",
     "height": 34
    },
    "colab_type": "code",
    "id": "S8E9r6qVBssg",
    "outputId": "8233a5f5-b52f-4480-d36f-d06df97b27a8"
   },
   "outputs": [
    {
     "name": "stdout",
     "output_type": "stream",
     "text": [
      "0.4397502903600465 0.6469367015098723\n"
     ]
    }
   ],
   "source": [
    "print( np.mean(np.asarray(precs)),np.mean(np.asarray(recs)))"
   ]
  },
  {
   "cell_type": "code",
   "execution_count": 0,
   "metadata": {
    "colab": {
     "base_uri": "https://localhost:8080/",
     "height": 105
    },
    "colab_type": "code",
    "id": "4wCx1u_2lY9U",
    "outputId": "5c0f4f43-3478-48aa-d05c-02663cf027b0"
   },
   "outputs": [
    {
     "name": "stdout",
     "output_type": "stream",
     "text": [
      "Predicted:  Kids,Animation,Soap  Actual:  Animation,Comedy,Kids,Soap\n",
      "Predicted:  Soap,Comedy,Animation  Actual:  Animation,Comedy\n",
      "Predicted:  Drama,Kids,Animation  Actual:  Animation,Mystery\n",
      "Predicted:  Kids,Animation,Soap  Actual:  Animation,Drama,Kids,Soap\n",
      "Predicted:  Drama,Animation,Soap  Actual:  Animation,Drama,Comedy,Kids,Soap\n"
     ]
    }
   ],
   "source": [
    "precs=[]\n",
    "recs=[]\n",
    "for i in range(len(Y_preds)):\n",
    "    row=Y_preds[i]\n",
    "    gt_genres=Y_test[i]\n",
    "    gt_genre_names=[]\n",
    "    for j in range(28):\n",
    "        if gt_genres[j]==1:\n",
    "            gt_genre_names.append(Genre_ID_to_name[genre_list[j]])\n",
    "    top_3=np.argsort(row)[-3:]\n",
    "    predicted_genres=[]\n",
    "    for genre in top_3:\n",
    "        predicted_genres.append(Genre_ID_to_name[genre_list[genre]])\n",
    "    (precision,recall)=precision_recall(gt_genre_names,predicted_genres)\n",
    "    precs.append(precision)\n",
    "    recs.append(recall)\n",
    "    if i%500==0:\n",
    "        print (\"Predicted: \",','.join(predicted_genres),\" Actual: \",','.join(gt_genre_names))"
   ]
  },
  {
   "cell_type": "code",
   "execution_count": 0,
   "metadata": {
    "colab": {
     "base_uri": "https://localhost:8080/",
     "height": 34
    },
    "colab_type": "code",
    "id": "mea1rpGZlbLb",
    "outputId": "6ccc44bc-6c1e-472f-f6f6-e5852df91083"
   },
   "outputs": [
    {
     "name": "stdout",
     "output_type": "stream",
     "text": [
      "0.5476190476190476 0.6860917537746806\n"
     ]
    }
   ],
   "source": [
    "print( np.mean(np.asarray(precs)),np.mean(np.asarray(recs)))"
   ]
  },
  {
   "cell_type": "code",
   "execution_count": 0,
   "metadata": {
    "colab": {
     "base_uri": "https://localhost:8080/",
     "height": 105
    },
    "colab_type": "code",
    "id": "nwAY0U4Wlpic",
    "outputId": "6935e17d-b790-40bc-ae5b-280135fd7cc2"
   },
   "outputs": [
    {
     "name": "stdout",
     "output_type": "stream",
     "text": [
      "Predicted:  Comedy,Kids,Animation,Soap  Actual:  Animation,Comedy,Kids,Soap\n",
      "Predicted:  TV Movie,Soap,Comedy,Animation  Actual:  Animation,Comedy\n",
      "Predicted:  Soap,Drama,Kids,Animation  Actual:  Animation,Mystery\n",
      "Predicted:  Drama,Kids,Animation,Soap  Actual:  Animation,Drama,Kids,Soap\n",
      "Predicted:  Kids,Drama,Animation,Soap  Actual:  Animation,Drama,Comedy,Kids,Soap\n"
     ]
    }
   ],
   "source": [
    "precs=[]\n",
    "recs=[]\n",
    "for i in range(len(Y_preds)):\n",
    "    row=Y_preds[i]\n",
    "    gt_genres=Y_test[i]\n",
    "    gt_genre_names=[]\n",
    "    for j in range(28):\n",
    "        if gt_genres[j]==1:\n",
    "            gt_genre_names.append(Genre_ID_to_name[genre_list[j]])\n",
    "    top_4=np.argsort(row)[-4:]\n",
    "    predicted_genres=[]\n",
    "    for genre in top_4:\n",
    "        predicted_genres.append(Genre_ID_to_name[genre_list[genre]])\n",
    "    (precision,recall)=precision_recall(gt_genre_names,predicted_genres)\n",
    "    precs.append(precision)\n",
    "    recs.append(recall)\n",
    "    if i%500==0:\n",
    "        print (\"Predicted: \",','.join(predicted_genres),\" Actual: \",','.join(gt_genre_names))"
   ]
  },
  {
   "cell_type": "code",
   "execution_count": 0,
   "metadata": {
    "colab": {
     "base_uri": "https://localhost:8080/",
     "height": 34
    },
    "colab_type": "code",
    "id": "6KoI91Yflpih",
    "outputId": "7327e815-1cd7-4221-907a-521db37a0d8d"
   },
   "outputs": [
    {
     "name": "stdout",
     "output_type": "stream",
     "text": [
      "0.4541594076655052 0.7537819396051104\n"
     ]
    }
   ],
   "source": [
    "print( np.mean(np.asarray(precs)),np.mean(np.asarray(recs)))"
   ]
  },
  {
   "cell_type": "markdown",
   "metadata": {
    "colab_type": "text",
    "id": "mYxwmXAUCf1J"
   },
   "source": [
    "# Deep learning for textual feature"
   ]
  },
  {
   "cell_type": "markdown",
   "metadata": {
    "colab_type": "text",
    "id": "uE8xpynjfeW7"
   },
   "source": [
    "You can download the dictionary from  [here](https://drive.google.com/file/d/0B7XkCwpI5KDYNlNUTTlSS21pQmM/edit )-\n",
    "Download it to the directory of this tutorial i.e. in the same folder as this ipython notebook."
   ]
  },
  {
   "cell_type": "code",
   "execution_count": 0,
   "metadata": {
    "colab": {
     "base_uri": "https://localhost:8080/",
     "height": 371
    },
    "colab_type": "code",
    "id": "efS6QYFYZQ3p",
    "outputId": "61e8ecd1-d675-4a68-a583-b7a6cef2ed82"
   },
   "outputs": [
    {
     "name": "stdout",
     "output_type": "stream",
     "text": [
      "Collecting PyDrive\n",
      "\u001b[?25l  Downloading https://files.pythonhosted.org/packages/52/e0/0e64788e5dd58ce2d6934549676243dc69d982f198524be9b99e9c2a4fd5/PyDrive-1.3.1.tar.gz (987kB)\n",
      "\u001b[K     |████████████████████████████████| 993kB 5.2MB/s \n",
      "\u001b[?25hRequirement already satisfied: google-api-python-client>=1.2 in /usr/local/lib/python3.6/dist-packages (from PyDrive) (1.6.7)\n",
      "Requirement already satisfied: oauth2client>=4.0.0 in /usr/local/lib/python3.6/dist-packages (from PyDrive) (4.1.3)\n",
      "Requirement already satisfied: PyYAML>=3.0 in /usr/local/lib/python3.6/dist-packages (from PyDrive) (3.13)\n",
      "Requirement already satisfied: six<2dev,>=1.6.1 in /usr/local/lib/python3.6/dist-packages (from google-api-python-client>=1.2->PyDrive) (1.12.0)\n",
      "Requirement already satisfied: uritemplate<4dev,>=3.0.0 in /usr/local/lib/python3.6/dist-packages (from google-api-python-client>=1.2->PyDrive) (3.0.0)\n",
      "Requirement already satisfied: httplib2<1dev,>=0.9.2 in /usr/local/lib/python3.6/dist-packages (from google-api-python-client>=1.2->PyDrive) (0.11.3)\n",
      "Requirement already satisfied: rsa>=3.1.4 in /usr/local/lib/python3.6/dist-packages (from oauth2client>=4.0.0->PyDrive) (4.0)\n",
      "Requirement already satisfied: pyasn1-modules>=0.0.5 in /usr/local/lib/python3.6/dist-packages (from oauth2client>=4.0.0->PyDrive) (0.2.5)\n",
      "Requirement already satisfied: pyasn1>=0.1.7 in /usr/local/lib/python3.6/dist-packages (from oauth2client>=4.0.0->PyDrive) (0.4.5)\n",
      "Building wheels for collected packages: PyDrive\n",
      "  Building wheel for PyDrive (setup.py) ... \u001b[?25l\u001b[?25hdone\n",
      "  Stored in directory: /root/.cache/pip/wheels/fa/d2/9a/d3b6b506c2da98289e5d417215ce34b696db856643bad779f4\n",
      "Successfully built PyDrive\n",
      "Installing collected packages: PyDrive\n",
      "Successfully installed PyDrive-1.3.1\n",
      "['.config', '.ipynb_checkpoints', 'tvshow_list.pckl', 'classifer_nb', 'Y.pckl', 'Genredict.pckl', 'GoogleNews-vectors-negative300.bin.gz', 'adc.json', 'X.pckl', 'tvshows_for_posters', 'sample_data']\n"
     ]
    }
   ],
   "source": [
    "!pip install PyDrive\n",
    "\n",
    "from pydrive.auth import GoogleAuth\n",
    "from pydrive.drive import GoogleDrive\n",
    "from google.colab import auth\n",
    "from oauth2client.client import GoogleCredentials\n",
    "# Authenticate and create the PyDrive client.\n",
    "# This only needs to be done once per notebook.\n",
    "auth.authenticate_user()\n",
    "gauth = GoogleAuth()\n",
    "gauth.credentials = GoogleCredentials.get_application_default()\n",
    "drive = GoogleDrive(gauth)\n",
    "\n",
    "file_id = '0B7XkCwpI5KDYNlNUTTlSS21pQmM' # URL id. \n",
    "downloaded = drive.CreateFile({'id': file_id})\n",
    "downloaded.GetContentFile('GoogleNews-vectors-negative300.bin.gz')\n",
    "\n",
    "import os\n",
    "print(os.listdir())"
   ]
  },
  {
   "cell_type": "code",
   "execution_count": 0,
   "metadata": {
    "colab": {},
    "colab_type": "code",
    "id": "o-98B4c0CA3S"
   },
   "outputs": [],
   "source": [
    "from gensim import models\n",
    "model2 = models.KeyedVectors.load_word2vec_format('GoogleNews-vectors-negative300.bin.gz', binary=True)"
   ]
  },
  {
   "cell_type": "code",
   "execution_count": 0,
   "metadata": {
    "colab": {
     "base_uri": "https://localhost:8080/",
     "height": 52
    },
    "colab_type": "code",
    "id": "SZ8ikVsjCs03",
    "outputId": "ffd49858-380b-404c-8bba-41fd2b4c20f6"
   },
   "outputs": [
    {
     "name": "stdout",
     "output_type": "stream",
     "text": [
      "(300,)\n",
      "(300,)\n"
     ]
    }
   ],
   "source": [
    "print (model2['king'].shape)\n",
    "print (model2['dog'].shape)"
   ]
  },
  {
   "cell_type": "code",
   "execution_count": 0,
   "metadata": {
    "colab": {
     "base_uri": "https://localhost:8080/",
     "height": 34
    },
    "colab_type": "code",
    "id": "DbT3wnOqCz8a",
    "outputId": "ff1c64d7-5766-415a-da0d-1d984a930d27"
   },
   "outputs": [
    {
     "data": {
      "text/plain": [
       "9802"
      ]
     },
     "execution_count": 63,
     "metadata": {
      "tags": []
     },
     "output_type": "execute_result"
    }
   ],
   "source": [
    "final_tvshows_set = tvshows_with_overviews\n",
    "len(final_tvshows_set)"
   ]
  },
  {
   "cell_type": "code",
   "execution_count": 0,
   "metadata": {
    "colab": {
     "base_uri": "https://localhost:8080/",
     "height": 177
    },
    "colab_type": "code",
    "id": "nhi6nlwDGhWB",
    "outputId": "cfe0109b-b724-4b5b-8269-950498a851cc"
   },
   "outputs": [
    {
     "name": "stdout",
     "output_type": "stream",
     "text": [
      "Collecting stop-words\n",
      "  Downloading https://files.pythonhosted.org/packages/1c/cb/d58290804b7a4c5daa42abbbe2a93c477ae53e45541b1825e86f0dfaaf63/stop-words-2018.7.23.tar.gz\n",
      "Building wheels for collected packages: stop-words\n",
      "  Building wheel for stop-words (setup.py) ... \u001b[?25l\u001b[?25hdone\n",
      "  Stored in directory: /root/.cache/pip/wheels/75/37/6a/2b295e03bd07290f0da95c3adb9a74ba95fbc333aa8b0c7c78\n",
      "Successfully built stop-words\n",
      "Installing collected packages: stop-words\n",
      "Successfully installed stop-words-2018.7.23\n"
     ]
    }
   ],
   "source": [
    "!pip install stop-words\n",
    "\n",
    "from nltk.tokenize import RegexpTokenizer\n",
    "from stop_words import get_stop_words\n",
    "tokenizer = RegexpTokenizer(r'\\w+')\n",
    "\n",
    "# create English stop words list\n",
    "en_stop = get_stop_words('en')"
   ]
  },
  {
   "cell_type": "code",
   "execution_count": 0,
   "metadata": {
    "colab": {
     "base_uri": "https://localhost:8080/",
     "height": 34
    },
    "colab_type": "code",
    "id": "5aE4BNqbGqwN",
    "outputId": "06779ceb-7ed7-4027-d13a-99ce8773fc12"
   },
   "outputs": [
    {
     "name": "stdout",
     "output_type": "stream",
     "text": [
      "(9802, 300)\n"
     ]
    }
   ],
   "source": [
    "tvshow_mean_wordvec=np.zeros((len(final_tvshows_set),300))\n",
    "print(tvshow_mean_wordvec.shape)"
   ]
  },
  {
   "cell_type": "code",
   "execution_count": 0,
   "metadata": {
    "colab": {},
    "colab_type": "code",
    "id": "23jxQlvIGz9U"
   },
   "outputs": [],
   "source": [
    "genres=[]\n",
    "rows_to_delete=[]\n",
    "for i in range(len(final_tvshows_set)):\n",
    "    tv=final_tvshows_set[i]\n",
    "    tvshow_genres=tv['genre_ids']\n",
    "    genres.append(tvshow_genres)\n",
    "    overview=tv['overview']\n",
    "    tokens = tokenizer.tokenize(overview)\n",
    "    stopped_tokens = [k for k in tokens if not k in en_stop]\n",
    "    count_in_vocab=0\n",
    "    s=0\n",
    "    if len(stopped_tokens)==0:\n",
    "        rows_to_delete.append(i)\n",
    "        genres.pop(-1)\n",
    "\n",
    "    else:\n",
    "        for tok in stopped_tokens:\n",
    "            if tok.lower() in model2.vocab:\n",
    "                count_in_vocab+=1\n",
    "                s+=model2[tok.lower()]\n",
    "        if count_in_vocab!=0:\n",
    "            tvshow_mean_wordvec[i]=s/float(count_in_vocab)\n",
    "        else:\n",
    "            rows_to_delete.append(i)\n",
    "            genres.pop(-1)"
   ]
  },
  {
   "cell_type": "code",
   "execution_count": 0,
   "metadata": {
    "colab": {
     "base_uri": "https://localhost:8080/",
     "height": 34
    },
    "colab_type": "code",
    "id": "TNNfja8pHYO_",
    "outputId": "c02c122a-9a76-4638-e75e-85d635337142"
   },
   "outputs": [
    {
     "data": {
      "text/plain": [
       "9791"
      ]
     },
     "execution_count": 67,
     "metadata": {
      "tags": []
     },
     "output_type": "execute_result"
    }
   ],
   "source": [
    "len(genres)"
   ]
  },
  {
   "cell_type": "code",
   "execution_count": 0,
   "metadata": {
    "colab": {},
    "colab_type": "code",
    "id": "38B9iEwCHesD"
   },
   "outputs": [],
   "source": [
    "mask2=[]\n",
    "for row in range(len(tvshow_mean_wordvec)):\n",
    "    if row in rows_to_delete:\n",
    "        mask2.append(False)\n",
    "    else:\n",
    "        mask2.append(True)"
   ]
  },
  {
   "cell_type": "code",
   "execution_count": 0,
   "metadata": {
    "colab": {
     "base_uri": "https://localhost:8080/",
     "height": 52
    },
    "colab_type": "code",
    "id": "CvryoVyMHhs7",
    "outputId": "45e3caec-3828-4d81-a06e-2fb077fb2e65"
   },
   "outputs": [
    {
     "name": "stdout",
     "output_type": "stream",
     "text": [
      "(9791, 300)\n",
      "(9791, 27)\n"
     ]
    }
   ],
   "source": [
    "X=tvshow_mean_wordvec[mask2]\n",
    "print(X.shape)\n",
    "Y=mlb.fit_transform(genres)\n",
    "print(Y.shape)"
   ]
  },
  {
   "cell_type": "code",
   "execution_count": 0,
   "metadata": {
    "colab": {},
    "colab_type": "code",
    "id": "NoZyJfgLHw88"
   },
   "outputs": [],
   "source": [
    "textual_features=(X,Y)\n",
    "f9=open('textual_features.pckl','wb')\n",
    "pickle.dump(textual_features,f9)\n",
    "f9.close()"
   ]
  },
  {
   "cell_type": "code",
   "execution_count": 0,
   "metadata": {
    "colab": {},
    "colab_type": "code",
    "id": "lhyL0-N7HzMb"
   },
   "outputs": [],
   "source": [
    "# textual_features=(X,Y)\n",
    "f9=open('textual_features.pckl','rb')\n",
    "textual_features=pickle.load(f9)\n",
    "f9.close()"
   ]
  },
  {
   "cell_type": "code",
   "execution_count": 0,
   "metadata": {
    "colab": {
     "base_uri": "https://localhost:8080/",
     "height": 52
    },
    "colab_type": "code",
    "id": "9-JHX4UYH2et",
    "outputId": "8069458c-0a20-4b14-d24c-bd264fab7f27"
   },
   "outputs": [
    {
     "name": "stdout",
     "output_type": "stream",
     "text": [
      "(9791, 300)\n",
      "(9791, 27)\n"
     ]
    }
   ],
   "source": [
    "(X,Y)=textual_features\n",
    "print(X.shape)\n",
    "print(Y.shape)"
   ]
  },
  {
   "cell_type": "code",
   "execution_count": 0,
   "metadata": {
    "colab": {},
    "colab_type": "code",
    "id": "T8_5dsfSH4zX"
   },
   "outputs": [],
   "source": [
    "mask_text=np.random.rand(len(X))<0.8\n",
    "X_train=X[mask_text]\n",
    "Y_train=Y[mask_text]\n",
    "X_test=X[~mask_text]\n",
    "Y_test=Y[~mask_text]"
   ]
  },
  {
   "cell_type": "code",
   "execution_count": 0,
   "metadata": {
    "colab": {
     "base_uri": "https://localhost:8080/",
     "height": 107
    },
    "colab_type": "code",
    "id": "d-FpMWqPH67k",
    "outputId": "13f6bb45-3011-4f08-f90b-9e18b6f11112"
   },
   "outputs": [
    {
     "name": "stdout",
     "output_type": "stream",
     "text": [
      "WARNING:tensorflow:From /usr/local/lib/python3.6/dist-packages/tensorflow/python/framework/op_def_library.py:263: colocate_with (from tensorflow.python.framework.ops) is deprecated and will be removed in a future version.\n",
      "Instructions for updating:\n",
      "Colocations handled automatically by placer.\n"
     ]
    },
    {
     "name": "stderr",
     "output_type": "stream",
     "text": [
      "Using TensorFlow backend.\n"
     ]
    }
   ],
   "source": [
    "from keras.models import Sequential\n",
    "from keras.layers import Dense, Activation\n",
    "\n",
    "model_textual = Sequential([\n",
    "    Dense(300, input_shape=(300,)),\n",
    "    Activation('relu'),\n",
    "    Dense(27),\n",
    "    Activation('softmax'),\n",
    "])\n",
    "\n",
    "model_textual.compile(optimizer='rmsprop',\n",
    "              loss='binary_crossentropy',\n",
    "              metrics=['accuracy'])"
   ]
  },
  {
   "cell_type": "code",
   "execution_count": 0,
   "metadata": {
    "colab": {
     "base_uri": "https://localhost:8080/",
     "height": 476
    },
    "colab_type": "code",
    "id": "NbxGWK4DH9at",
    "outputId": "cbe5378f-b447-4562-b242-6606c495b646"
   },
   "outputs": [
    {
     "name": "stdout",
     "output_type": "stream",
     "text": [
      "WARNING:tensorflow:From /usr/local/lib/python3.6/dist-packages/tensorflow/python/ops/math_ops.py:3066: to_int32 (from tensorflow.python.ops.math_ops) is deprecated and will be removed in a future version.\n",
      "Instructions for updating:\n",
      "Use tf.cast instead.\n",
      "Epoch 1/10\n",
      "7876/7876 [==============================] - 1s 164us/step - loss: 0.2300 - acc: 0.9306\n",
      "Epoch 2/10\n",
      "7876/7876 [==============================] - 0s 12us/step - loss: 0.2035 - acc: 0.9306\n",
      "Epoch 3/10\n",
      "7876/7876 [==============================] - 0s 9us/step - loss: 0.1917 - acc: 0.9307\n",
      "Epoch 4/10\n",
      "7876/7876 [==============================] - 0s 9us/step - loss: 0.1821 - acc: 0.9313\n",
      "Epoch 5/10\n",
      "7876/7876 [==============================] - 0s 9us/step - loss: 0.1742 - acc: 0.9322\n",
      "Epoch 6/10\n",
      "7876/7876 [==============================] - 0s 9us/step - loss: 0.1683 - acc: 0.9330\n",
      "Epoch 7/10\n",
      "7876/7876 [==============================] - 0s 9us/step - loss: 0.1639 - acc: 0.9339\n",
      "Epoch 8/10\n",
      "7876/7876 [==============================] - 0s 10us/step - loss: 0.1604 - acc: 0.9346\n",
      "Epoch 9/10\n",
      "7876/7876 [==============================] - 0s 11us/step - loss: 0.1575 - acc: 0.9352\n",
      "Epoch 10/10\n",
      "7876/7876 [==============================] - 0s 9us/step - loss: 0.1555 - acc: 0.9358\n",
      "1915/1915 [==============================] - 0s 33us/step\n",
      "acc: 94.06%\n"
     ]
    }
   ],
   "source": [
    "model_textual.fit(X_train, Y_train, epochs=10, batch_size=500)\n",
    "model_textual.fit(X_train, Y_train, epochs=10000, batch_size=500,verbose=0)\n",
    "score = model_textual.evaluate(X_test, Y_test, batch_size=249)\n",
    "print(\"%s: %.2f%%\" % (model_textual.metrics_names[1], score[1]*100))"
   ]
  },
  {
   "cell_type": "code",
   "execution_count": 0,
   "metadata": {
    "colab": {},
    "colab_type": "code",
    "id": "fmjJ6OUqImvH"
   },
   "outputs": [],
   "source": [
    "Y_preds=model_textual.predict(X_test)\n",
    "genre_list.append(10749)\n",
    "genre_list.append(10752)\n",
    "genre_list.append(12)\n",
    "genre_list.append(14)\n",
    "genre_list.append(22)\n",
    "genre_list.append(27)\n",
    "genre_list.append(28)\n",
    "genre_list.append(10402)\n",
    "genre_list.append(36)\n",
    "genre_list.append(53)\n",
    "genre_list.append(878)\n"
   ]
  },
  {
   "cell_type": "markdown",
   "metadata": {
    "colab_type": "text",
    "id": "uapdYljojRSc"
   },
   "source": [
    "Three-class prediction"
   ]
  },
  {
   "cell_type": "code",
   "execution_count": 0,
   "metadata": {
    "colab": {
     "base_uri": "https://localhost:8080/",
     "height": 142
    },
    "colab_type": "code",
    "id": "PuG3eROhIqV0",
    "outputId": "aa3551a0-145e-473d-ab81-53131e2bd3f5"
   },
   "outputs": [
    {
     "name": "stdout",
     "output_type": "stream",
     "text": [
      "Our predictions for the tvshows are - \n",
      "\n",
      "Predicted:  ['Drama', 'Kids', 'Action & Adventure']  Actual:  ['Animation', 'Comedy', 'Action & Adventure']\n",
      "Predicted:  ['Family', 'Crime', 'Comedy']  Actual:  ['Comedy']\n",
      "Predicted:  ['Crime', 'Drama', 'Comedy']  Actual:  ['Animation', 'Comedy', 'Mystery']\n",
      "Predicted:  ['Western', 'Reality', 'Documentary']  Actual:  ['Reality']\n"
     ]
    }
   ],
   "source": [
    "print (\"Our predictions for the tvshows are - \\n\")\n",
    "precs=[]\n",
    "recs=[]\n",
    "for i in range(len(Y_preds)):\n",
    "    row=Y_preds[i]\n",
    "    gt_genres=Y_test[i]\n",
    "    gt_genre_names=[]\n",
    "    for j in range(27):\n",
    "        if gt_genres[j]==1:\n",
    "            gt_genre_names.append(Genre_ID_to_name[genre_list[j]])\n",
    "    top_3=np.argsort(row)[-3:]\n",
    "    predicted_genres=[]\n",
    "    for genre in top_3:\n",
    "        predicted_genres.append(Genre_ID_to_name[genre_list[genre]])\n",
    "    (precision,recall)=precision_recall(gt_genre_names,predicted_genres)\n",
    "    precs.append(precision)\n",
    "    recs.append(recall)\n",
    "    if i%500==0:\n",
    "        print (\"Predicted: \",predicted_genres,\" Actual: \",gt_genre_names)"
   ]
  },
  {
   "cell_type": "code",
   "execution_count": 0,
   "metadata": {
    "colab": {
     "base_uri": "https://localhost:8080/",
     "height": 34
    },
    "colab_type": "code",
    "id": "j1BNA8otIu5c",
    "outputId": "a81e25ad-d3aa-4496-d088-9a5c3e726a6f"
   },
   "outputs": [
    {
     "name": "stdout",
     "output_type": "stream",
     "text": [
      "0.4266318537859008 0.7264577893820714\n"
     ]
    }
   ],
   "source": [
    "print(np.mean(np.asarray(precs)),np.mean(np.asarray(recs)))"
   ]
  },
  {
   "cell_type": "markdown",
   "metadata": {
    "colab_type": "text",
    "id": "n2GJg1QujKdx"
   },
   "source": [
    "Single prediction"
   ]
  },
  {
   "cell_type": "code",
   "execution_count": 0,
   "metadata": {
    "colab": {
     "base_uri": "https://localhost:8080/",
     "height": 122
    },
    "colab_type": "code",
    "id": "KF9SHtAXij0u",
    "outputId": "004dfbcf-4e7c-4c9c-da12-07b59a14247b"
   },
   "outputs": [
    {
     "name": "stdout",
     "output_type": "stream",
     "text": [
      "Our predictions for the tvshows are - \n",
      "\n",
      "Predicted:  ['Action & Adventure']  Actual:  ['Animation', 'Comedy', 'Action & Adventure']\n",
      "Predicted:  ['Comedy']  Actual:  ['Comedy']\n",
      "Predicted:  ['Comedy']  Actual:  ['Animation', 'Comedy', 'Mystery']\n",
      "Predicted:  ['Documentary']  Actual:  ['Reality']\n"
     ]
    }
   ],
   "source": [
    "print (\"Our predictions for the tvshows are - \\n\")\n",
    "precs=[]\n",
    "recs=[]\n",
    "for i in range(len(Y_preds)):\n",
    "    row=Y_preds[i]\n",
    "    gt_genres=Y_test[i]\n",
    "    gt_genre_names=[]\n",
    "    for j in range(27):\n",
    "        if gt_genres[j]==1:\n",
    "            gt_genre_names.append(Genre_ID_to_name[genre_list[j]])\n",
    "    top_1=np.argsort(row)[-1:]\n",
    "    predicted_genres=[]\n",
    "    for genre in top_1:\n",
    "        predicted_genres.append(Genre_ID_to_name[genre_list[genre]])\n",
    "    (precision,recall)=precision_recall(gt_genre_names,predicted_genres)\n",
    "    precs.append(precision)\n",
    "    recs.append(recall)\n",
    "    if i%500==0:\n",
    "        print (\"Predicted: \",predicted_genres,\" Actual: \",gt_genre_names)"
   ]
  },
  {
   "cell_type": "code",
   "execution_count": 0,
   "metadata": {
    "colab": {
     "base_uri": "https://localhost:8080/",
     "height": 34
    },
    "colab_type": "code",
    "id": "zOKvHFx1ixrF",
    "outputId": "12cb9600-3499-491c-b042-176ceba4678d"
   },
   "outputs": [
    {
     "name": "stdout",
     "output_type": "stream",
     "text": [
      "0.637597911227154 0.40818102697998265\n"
     ]
    }
   ],
   "source": [
    "print(np.mean(np.asarray(precs)),np.mean(np.asarray(recs)))"
   ]
  },
  {
   "cell_type": "raw",
   "metadata": {},
   "source": [
    "predictions for top4 results"
   ]
  },
  {
   "cell_type": "code",
   "execution_count": 0,
   "metadata": {
    "colab": {
     "base_uri": "https://localhost:8080/",
     "height": 142
    },
    "colab_type": "code",
    "id": "UyE6PcIUaM_C",
    "outputId": "348c2a97-a14e-4368-b878-5e1a0096bdd0"
   },
   "outputs": [
    {
     "name": "stdout",
     "output_type": "stream",
     "text": [
      "Our predictions for the tvshows are - \n",
      "\n",
      "Predicted:  ['Comedy', 'Drama', 'Kids', 'Action & Adventure']  Actual:  ['Animation', 'Comedy', 'Action & Adventure']\n",
      "Predicted:  ['Drama', 'Family', 'Crime', 'Comedy']  Actual:  ['Comedy']\n",
      "Predicted:  ['Mystery', 'Crime', 'Drama', 'Comedy']  Actual:  ['Animation', 'Comedy', 'Mystery']\n",
      "Predicted:  ['Action & Adventure', 'Western', 'Reality', 'Documentary']  Actual:  ['Reality']\n"
     ]
    }
   ],
   "source": [
    "print (\"Our predictions for the tvshows are - \\n\")\n",
    "precs=[]\n",
    "recs=[]\n",
    "for i in range(len(Y_preds)):\n",
    "    row=Y_preds[i]\n",
    "    gt_genres=Y_test[i]\n",
    "    gt_genre_names=[]\n",
    "    for j in range(27):\n",
    "        if gt_genres[j]==1:\n",
    "            gt_genre_names.append(Genre_ID_to_name[genre_list[j]])\n",
    "    top_4=np.argsort(row)[-4:]\n",
    "    predicted_genres=[]\n",
    "    for genre in top_4:\n",
    "        predicted_genres.append(Genre_ID_to_name[genre_list[genre]])\n",
    "    (precision,recall)=precision_recall(gt_genre_names,predicted_genres)\n",
    "    precs.append(precision)\n",
    "    recs.append(recall)\n",
    "    if i%500==0:\n",
    "        print (\"Predicted: \",predicted_genres,\" Actual: \",gt_genre_names)"
   ]
  },
  {
   "cell_type": "code",
   "execution_count": 0,
   "metadata": {
    "colab": {
     "base_uri": "https://localhost:8080/",
     "height": 34
    },
    "colab_type": "code",
    "id": "Gyy3nyWBaXEn",
    "outputId": "236160bb-c958-45c9-b9e7-883bd229d9d7"
   },
   "outputs": [
    {
     "name": "stdout",
     "output_type": "stream",
     "text": [
      "0.3663185378590078 0.8106179286335944\n"
     ]
    }
   ],
   "source": [
    "print(np.mean(np.asarray(precs)),np.mean(np.asarray(recs)))"
   ]
  },
  {
   "cell_type": "raw",
   "metadata": {},
   "source": [
    "predictions for top5 results"
   ]
  },
  {
   "cell_type": "code",
   "execution_count": 0,
   "metadata": {
    "colab": {
     "base_uri": "https://localhost:8080/",
     "height": 142
    },
    "colab_type": "code",
    "id": "0cLuJIB6agnN",
    "outputId": "bf47d8a7-8ee7-4035-b120-072724835e75"
   },
   "outputs": [
    {
     "name": "stdout",
     "output_type": "stream",
     "text": [
      "Our predictions for the tvshows are - \n",
      "\n",
      "Predicted:  ['Family', 'Comedy', 'Drama', 'Kids', 'Action & Adventure']  Actual:  ['Animation', 'Comedy', 'Action & Adventure']\n",
      "Predicted:  ['Western', 'Drama', 'Family', 'Crime', 'Comedy']  Actual:  ['Comedy']\n",
      "Predicted:  ['Action & Adventure', 'Mystery', 'Crime', 'Drama', 'Comedy']  Actual:  ['Animation', 'Comedy', 'Mystery']\n",
      "Predicted:  ['News', 'Action & Adventure', 'Western', 'Reality', 'Documentary']  Actual:  ['Reality']\n"
     ]
    }
   ],
   "source": [
    "print (\"Our predictions for the tvshows are - \\n\")\n",
    "precs=[]\n",
    "recs=[]\n",
    "for i in range(len(Y_preds)):\n",
    "    row=Y_preds[i]\n",
    "    gt_genres=Y_test[i]\n",
    "    gt_genre_names=[]\n",
    "    for j in range(27):\n",
    "        if gt_genres[j]==1:\n",
    "            gt_genre_names.append(Genre_ID_to_name[genre_list[j]])\n",
    "    top_5=np.argsort(row)[-5:]\n",
    "    predicted_genres=[]\n",
    "    for genre in top_5:\n",
    "        predicted_genres.append(Genre_ID_to_name[genre_list[genre]])\n",
    "    (precision,recall)=precision_recall(gt_genre_names,predicted_genres)\n",
    "    precs.append(precision)\n",
    "    recs.append(recall)\n",
    "    if i%500==0:\n",
    "        print (\"Predicted: \",predicted_genres,\" Actual: \",gt_genre_names)"
   ]
  },
  {
   "cell_type": "code",
   "execution_count": 0,
   "metadata": {
    "colab": {
     "base_uri": "https://localhost:8080/",
     "height": 34
    },
    "colab_type": "code",
    "id": "XwdmFKpnaltF",
    "outputId": "29ad67eb-f1be-40db-bf48-17266318c39c"
   },
   "outputs": [
    {
     "name": "stdout",
     "output_type": "stream",
     "text": [
      "0.31791122715404696 0.8644560487380331\n"
     ]
    }
   ],
   "source": [
    "print(np.mean(np.asarray(precs)),np.mean(np.asarray(recs)))"
   ]
  }
 ],
 "metadata": {
  "accelerator": "GPU",
  "colab": {
   "collapsed_sections": [],
   "name": "TV_ml_project .ipynb",
   "provenance": [],
   "toc_visible": true,
   "version": "0.3.2"
  },
  "kernelspec": {
   "display_name": "Python 3",
   "language": "python",
   "name": "python3"
  },
  "language_info": {
   "codemirror_mode": {
    "name": "ipython",
    "version": 3
   },
   "file_extension": ".py",
   "mimetype": "text/x-python",
   "name": "python",
   "nbconvert_exporter": "python",
   "pygments_lexer": "ipython3",
   "version": "3.6.8"
  }
 },
 "nbformat": 4,
 "nbformat_minor": 1
}
